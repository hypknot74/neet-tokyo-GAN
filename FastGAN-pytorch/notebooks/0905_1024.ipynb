{
 "cells": [
  {
   "cell_type": "code",
   "execution_count": 5,
   "id": "cfef3d2c-b985-4518-bff2-3a8b6d51942b",
   "metadata": {},
   "outputs": [],
   "source": [
    "CUDA = 2\n",
    "NAME = '2'\n",
    "PATH = '../../dataset/processed_1024'\n",
    "\n",
    "# パラメータ\n",
    "IM_SIZE=1024\n",
    "NZ = 256\n",
    "NUM_INNER_ITERATIONS = 1\n",
    "ITER = 100000"
   ]
  },
  {
   "cell_type": "code",
   "execution_count": null,
   "id": "0833ad51-c3d3-4e6a-a22a-8a630360be71",
   "metadata": {},
   "outputs": [
    {
     "name": "stdout",
     "output_type": "stream",
     "text": [
      "Setting up Perceptual loss...\n",
      "Loading model from: /workspace/FastGAN-pytorch/lpips/weights/v0.1/vgg.pth\n",
      "...[net-lin [vgg]] initialized\n",
      "...Done\n",
      "Namespace(batch_size=8, ckpt='None', cuda=0, im_size=1024, iter=100000, name='2', num_inner_iterations=1, nz=256, path='../../dataset/processed_1024', start_iter=0, wandb=True)\n",
      "\u001b[34m\u001b[1mwandb\u001b[0m: Currently logged in as: \u001b[33mhypknot\u001b[0m (use `wandb login --relogin` to force relogin)\n",
      "\u001b[34m\u001b[1mwandb\u001b[0m: Tracking run with wandb version 0.12.1\n",
      "\u001b[34m\u001b[1mwandb\u001b[0m: Syncing run \u001b[33mautumn-butterfly-11\u001b[0m\n",
      "\u001b[34m\u001b[1mwandb\u001b[0m: ⭐️ View project at \u001b[34m\u001b[4mhttps://wandb.ai/hypknot/neet%20tokyo\u001b[0m\n",
      "\u001b[34m\u001b[1mwandb\u001b[0m: 🚀 View run at \u001b[34m\u001b[4mhttps://wandb.ai/hypknot/neet%20tokyo/runs/30rwtfnt\u001b[0m\n",
      "\u001b[34m\u001b[1mwandb\u001b[0m: Run data is saved locally in /workspace/FastGAN-pytorch/notebooks/wandb/run-20210905_073422-30rwtfnt\n",
      "\u001b[34m\u001b[1mwandb\u001b[0m: Run `wandb offline` to turn off syncing.\n",
      "\n",
      "  0%|                                                | 0/100001 [00:00<?, ?it/s]/usr/local/lib/python3.7/dist-packages/torch/nn/functional.py:718: UserWarning: Named tensors and all their associated APIs are an experimental feature and subject to change. Please do not use them for anything important until they are released as stable. (Triggered internally at  /pytorch/c10/core/TensorImpl.h:1156.)\n",
      "  return torch.max_pool2d(input, kernel_size, stride, padding, dilation, ceil_mode)\n",
      "GAN: loss d: 0.53416    loss g: 0.09847\n",
      "  0%|                                   | 100/100001 [01:05<17:34:45,  1.58it/s]GAN: loss d: 0.52163    loss g: -0.88138\n",
      "  0%|                                   | 200/100001 [02:08<17:19:28,  1.60it/s]GAN: loss d: 0.23808    loss g: -0.51504\n",
      "  0%|                                   | 300/100001 [03:11<17:24:13,  1.59it/s]GAN: loss d: 0.14923    loss g: -0.29927\n",
      "  0%|▏                                  | 400/100001 [04:14<17:21:02,  1.59it/s]GAN: loss d: -0.06930    loss g: -0.12272\n",
      "  0%|▏                                  | 500/100001 [05:17<17:37:24,  1.57it/s]GAN: loss d: -0.22015    loss g: -0.47455\n",
      "  1%|▏                                  | 600/100001 [06:19<17:18:03,  1.60it/s]GAN: loss d: 0.01852    loss g: -0.40414\n",
      "  1%|▏                                  | 700/100001 [07:22<17:33:59,  1.57it/s]GAN: loss d: 0.29024    loss g: -0.40839\n",
      "  1%|▎                                  | 800/100001 [08:26<17:22:16,  1.59it/s]GAN: loss d: -0.00368    loss g: 0.07874\n",
      "  1%|▎                                  | 900/100001 [09:28<17:10:45,  1.60it/s]GAN: loss d: 0.25254    loss g: -0.38910\n",
      "  1%|▎                                 | 1000/100001 [10:32<17:14:47,  1.59it/s]GAN: loss d: 0.71350    loss g: -0.46656\n",
      "  1%|▎                                 | 1100/100001 [11:35<17:12:34,  1.60it/s]GAN: loss d: 0.25398    loss g: -0.54696\n",
      "  1%|▍                                 | 1200/100001 [12:38<17:13:32,  1.59it/s]GAN: loss d: 0.28388    loss g: -0.36033\n",
      "  1%|▍                                 | 1219/100001 [12:50<17:12:59,  1.59it/s]"
     ]
    }
   ],
   "source": [
    "!CUDA_VISIBLE_DEVICES=$CUDA python ../train.py\\\n",
    "--path $PATH --im_size $IM_SIZE  --batch_size 8 --name $NAME \\\n",
    "--num_inner_iterations $NUM_INNER_ITERATIONS --nz $NZ \\\n",
    "--iter $ITER \\\n",
    "--wandb"
   ]
  },
  {
   "cell_type": "markdown",
   "id": "298a405e-bf48-4403-b814-694933b7e763",
   "metadata": {
    "tags": []
   },
   "source": [
    "# 動画作成"
   ]
  },
  {
   "cell_type": "code",
   "execution_count": 7,
   "id": "96ad9278-329b-41e1-b735-4f74889fff7b",
   "metadata": {},
   "outputs": [
    {
     "name": "stdout",
     "output_type": "stream",
     "text": [
      "/workspace/FastGAN-pytorch/notebooks/train_results/2\n"
     ]
    }
   ],
   "source": [
    "cd ./train_results/$NAME/"
   ]
  },
  {
   "cell_type": "code",
   "execution_count": 9,
   "id": "efe0029f-82c7-4fc1-b926-9180a3a58492",
   "metadata": {},
   "outputs": [
    {
     "name": "stdout",
     "output_type": "stream",
     "text": [
      "15\n",
      "15\n",
      "generating images ...\n",
      "100%|█████████████████████████████████████████| 222/222 [02:20<00:00,  1.58it/s]\n",
      "making videos ...\n",
      "100%|███████████████████████████████████████| 1780/1780 [00:20<00:00, 86.62it/s]\n"
     ]
    }
   ],
   "source": [
    "!MKL_SERVICE_FORCE_INTEL=CUDA python ../../../generate_video.py \\\n",
    "--ckpt ./models/100000.pth --name 2_1 --im_size $IM_SIZE --nz $NZ "
   ]
  },
  {
   "cell_type": "code",
   "execution_count": 10,
   "id": "acc4b9c3-a7dc-4531-89a8-5ec36de8edd0",
   "metadata": {},
   "outputs": [
    {
     "name": "stdout",
     "output_type": "stream",
     "text": [
      "15\n",
      "15\n",
      "generating images ...\n",
      "100%|█████████████████████████████████████████| 222/222 [02:21<00:00,  1.57it/s]\n",
      "making videos ...\n",
      "100%|███████████████████████████████████████| 1780/1780 [00:20<00:00, 86.56it/s]\n"
     ]
    }
   ],
   "source": [
    "!MKL_SERVICE_FORCE_INTEL=CUDA python ../../../generate_video.py \\\n",
    "--ckpt ./models/100000.pth --name 2_2 --im_size $IM_SIZE --nz $NZ "
   ]
  },
  {
   "cell_type": "code",
   "execution_count": 11,
   "id": "161b2cf6-37a3-4683-8d45-a9893dc429c2",
   "metadata": {},
   "outputs": [
    {
     "name": "stdout",
     "output_type": "stream",
     "text": [
      "15\n",
      "15\n",
      "generating images ...\n",
      "100%|█████████████████████████████████████████| 222/222 [02:19<00:00,  1.59it/s]\n",
      "making videos ...\n",
      "100%|███████████████████████████████████████| 1780/1780 [00:20<00:00, 85.34it/s]\n"
     ]
    }
   ],
   "source": [
    "!MKL_SERVICE_FORCE_INTEL=CUDA python ../../../generate_video.py \\\n",
    "--ckpt ./models/100000.pth --name 2_3 --im_size $IM_SIZE --nz $NZ "
   ]
  },
  {
   "cell_type": "code",
   "execution_count": 12,
   "id": "50e46064-8547-44c9-95d9-edae91248189",
   "metadata": {},
   "outputs": [
    {
     "name": "stdout",
     "output_type": "stream",
     "text": [
      "15\n",
      "15\n",
      "generating images ...\n",
      "100%|█████████████████████████████████████████| 222/222 [02:21<00:00,  1.56it/s]\n",
      "making videos ...\n",
      "100%|███████████████████████████████████████| 1780/1780 [00:20<00:00, 86.74it/s]\n"
     ]
    }
   ],
   "source": [
    "!MKL_SERVICE_FORCE_INTEL=CUDA python ../../../generate_video.py \\\n",
    "--ckpt ./models/100000.pth --name 2_4 --im_size $IM_SIZE --nz $NZ "
   ]
  },
  {
   "cell_type": "code",
   "execution_count": 13,
   "id": "e5d675d9-cbcc-40cc-b631-82ed87cc9428",
   "metadata": {},
   "outputs": [
    {
     "name": "stdout",
     "output_type": "stream",
     "text": [
      "15\n",
      "15\n",
      "generating images ...\n",
      "100%|█████████████████████████████████████████| 222/222 [02:19<00:00,  1.59it/s]\n",
      "making videos ...\n",
      "100%|███████████████████████████████████████| 1780/1780 [00:21<00:00, 83.51it/s]\n"
     ]
    }
   ],
   "source": [
    "!MKL_SERVICE_FORCE_INTEL=CUDA python ../../../generate_video.py \\\n",
    "--ckpt ./models/75000.pth --name 1024_75000_0 --im_size $IM_SIZE --nz $NZ "
   ]
  },
  {
   "cell_type": "code",
   "execution_count": 14,
   "id": "4a5a4245-bc3d-45db-a42f-f4fa69a8ab2d",
   "metadata": {},
   "outputs": [
    {
     "name": "stdout",
     "output_type": "stream",
     "text": [
      "15\n",
      "15\n",
      "generating images ...\n",
      "100%|█████████████████████████████████████████| 222/222 [02:03<00:00,  1.79it/s]\n",
      "making videos ...\n",
      "100%|███████████████████████████████████████| 1780/1780 [00:21<00:00, 83.96it/s]\n"
     ]
    }
   ],
   "source": [
    "!MKL_SERVICE_FORCE_INTEL=CUDA python ../../../generate_video.py \\\n",
    "--ckpt ./models/75000.pth --name 1024_75000_1 --im_size $IM_SIZE --nz $NZ "
   ]
  },
  {
   "cell_type": "code",
   "execution_count": 15,
   "id": "5a13e7e9-217e-4585-a7e4-3ac01c415ea4",
   "metadata": {},
   "outputs": [
    {
     "name": "stdout",
     "output_type": "stream",
     "text": [
      "15\n",
      "15\n",
      "generating images ...\n",
      "100%|█████████████████████████████████████████| 222/222 [02:03<00:00,  1.80it/s]\n",
      "making videos ...\n",
      "100%|███████████████████████████████████████| 1780/1780 [00:21<00:00, 83.24it/s]\n"
     ]
    }
   ],
   "source": [
    "!MKL_SERVICE_FORCE_INTEL=CUDA python ../../../generate_video.py \\\n",
    "--ckpt ./models/75000.pth --name 1024_75000_2 --im_size $IM_SIZE --nz $NZ "
   ]
  },
  {
   "cell_type": "code",
   "execution_count": null,
   "id": "e08f5380-2861-4ef5-bc24-d293ae950b8f",
   "metadata": {},
   "outputs": [],
   "source": []
  }
 ],
 "metadata": {
  "kernelspec": {
   "display_name": "Python 3 (ipykernel)",
   "language": "python",
   "name": "python3"
  },
  "language_info": {
   "codemirror_mode": {
    "name": "ipython",
    "version": 3
   },
   "file_extension": ".py",
   "mimetype": "text/x-python",
   "name": "python",
   "nbconvert_exporter": "python",
   "pygments_lexer": "ipython3",
   "version": "3.7.11"
  }
 },
 "nbformat": 4,
 "nbformat_minor": 5
}
