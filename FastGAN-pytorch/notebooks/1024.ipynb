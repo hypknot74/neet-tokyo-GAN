{
 "cells": [
  {
   "cell_type": "code",
   "execution_count": 5,
   "source": [
    "CUDA = 2\n",
    "NAME = '1024'\n",
    "PATH = '../../dataset/processed_1024'\n",
    "\n",
    "# パラメータ\n",
    "IM_SIZE=1024\n",
    "NZ = 256\n",
    "NUM_INNER_ITERATIONS = 1\n",
    "ITER = 100000"
   ],
   "outputs": [],
   "metadata": {}
  },
  {
   "cell_type": "code",
   "execution_count": null,
   "source": [
    "!CUDA_VISIBLE_DEVICES=$CUDA python ../train.py\\\n",
    "--path $PATH --im_size $IM_SIZE  --batch_size 8 --name $NAME \\\n",
    "--num_inner_iterations $NUM_INNER_ITERATIONS --nz $NZ \\\n",
    "--iter $ITER \\\n",
    "--wandb"
   ],
   "outputs": [
    {
     "output_type": "stream",
     "name": "stdout",
     "text": [
      "Setting up Perceptual loss...\n",
      "Loading model from: /workspace/FastGAN-pytorch/lpips/weights/v0.1/vgg.pth\n",
      "...[net-lin [vgg]] initialized\n",
      "...Done\n",
      "Namespace(batch_size=8, ckpt='None', cuda=0, im_size=1024, iter=100000, name='2', num_inner_iterations=1, nz=256, path='../../dataset/processed_1024', start_iter=0, wandb=True)\n",
      "\u001b[34m\u001b[1mwandb\u001b[0m: Currently logged in as: \u001b[33mhypknot\u001b[0m (use `wandb login --relogin` to force relogin)\n",
      "\u001b[34m\u001b[1mwandb\u001b[0m: Tracking run with wandb version 0.12.1\n",
      "\u001b[34m\u001b[1mwandb\u001b[0m: Syncing run \u001b[33mautumn-butterfly-11\u001b[0m\n",
      "\u001b[34m\u001b[1mwandb\u001b[0m: ⭐️ View project at \u001b[34m\u001b[4mhttps://wandb.ai/hypknot/neet%20tokyo\u001b[0m\n",
      "\u001b[34m\u001b[1mwandb\u001b[0m: 🚀 View run at \u001b[34m\u001b[4mhttps://wandb.ai/hypknot/neet%20tokyo/runs/30rwtfnt\u001b[0m\n",
      "\u001b[34m\u001b[1mwandb\u001b[0m: Run data is saved locally in /workspace/FastGAN-pytorch/notebooks/wandb/run-20210905_073422-30rwtfnt\n",
      "\u001b[34m\u001b[1mwandb\u001b[0m: Run `wandb offline` to turn off syncing.\n",
      "\n",
      "  0%|                                                | 0/100001 [00:00<?, ?it/s]/usr/local/lib/python3.7/dist-packages/torch/nn/functional.py:718: UserWarning: Named tensors and all their associated APIs are an experimental feature and subject to change. Please do not use them for anything important until they are released as stable. (Triggered internally at  /pytorch/c10/core/TensorImpl.h:1156.)\n",
      "  return torch.max_pool2d(input, kernel_size, stride, padding, dilation, ceil_mode)\n",
      "GAN: loss d: 0.53416    loss g: 0.09847\n",
      "  0%|                                   | 100/100001 [01:05<17:34:45,  1.58it/s]GAN: loss d: 0.52163    loss g: -0.88138\n",
      "  0%|                                   | 200/100001 [02:08<17:19:28,  1.60it/s]GAN: loss d: 0.23808    loss g: -0.51504\n",
      "  0%|                                   | 300/100001 [03:11<17:24:13,  1.59it/s]GAN: loss d: 0.14923    loss g: -0.29927\n",
      "  0%|▏                                  | 400/100001 [04:14<17:21:02,  1.59it/s]GAN: loss d: -0.06930    loss g: -0.12272\n",
      "  0%|▏                                  | 500/100001 [05:17<17:37:24,  1.57it/s]GAN: loss d: -0.22015    loss g: -0.47455\n",
      "  1%|▏                                  | 600/100001 [06:19<17:18:03,  1.60it/s]GAN: loss d: 0.01852    loss g: -0.40414\n",
      "  1%|▏                                  | 700/100001 [07:22<17:33:59,  1.57it/s]GAN: loss d: 0.29024    loss g: -0.40839\n",
      "  1%|▎                                  | 800/100001 [08:26<17:22:16,  1.59it/s]GAN: loss d: -0.00368    loss g: 0.07874\n",
      "  1%|▎                                  | 900/100001 [09:28<17:10:45,  1.60it/s]GAN: loss d: 0.25254    loss g: -0.38910\n",
      "  1%|▎                                 | 1000/100001 [10:32<17:14:47,  1.59it/s]GAN: loss d: 0.71350    loss g: -0.46656\n",
      "  1%|▎                                 | 1100/100001 [11:35<17:12:34,  1.60it/s]GAN: loss d: 0.25398    loss g: -0.54696\n",
      "  1%|▍                                 | 1200/100001 [12:38<17:13:32,  1.59it/s]GAN: loss d: 0.28388    loss g: -0.36033\n",
      "  1%|▍                                 | 1219/100001 [12:50<17:12:59,  1.59it/s]"
     ]
    }
   ],
   "metadata": {}
  },
  {
   "cell_type": "markdown",
   "source": [
    "# 動画作成"
   ],
   "metadata": {
    "tags": []
   }
  },
  {
   "cell_type": "code",
   "execution_count": 7,
   "source": [
    "cd ./train_results/$NAME/"
   ],
   "outputs": [
    {
     "output_type": "stream",
     "name": "stdout",
     "text": [
      "/workspace/FastGAN-pytorch/notebooks/train_results/2\n"
     ]
    }
   ],
   "metadata": {}
  },
  {
   "cell_type": "code",
   "execution_count": 9,
   "source": [
    "!MKL_SERVICE_FORCE_INTEL=CUDA python ../../../generate_video.py \\\n",
    "--ckpt ./models/100000.pth --name $NAME --im_size $IM_SIZE --nz $NZ "
   ],
   "outputs": [
    {
     "output_type": "stream",
     "name": "stdout",
     "text": [
      "15\n",
      "15\n",
      "generating images ...\n",
      "100%|█████████████████████████████████████████| 222/222 [02:20<00:00,  1.58it/s]\n",
      "making videos ...\n",
      "100%|███████████████████████████████████████| 1780/1780 [00:20<00:00, 86.62it/s]\n"
     ]
    }
   ],
   "metadata": {}
  }
 ],
 "metadata": {
  "kernelspec": {
   "display_name": "Python 3 (ipykernel)",
   "language": "python",
   "name": "python3"
  },
  "language_info": {
   "codemirror_mode": {
    "name": "ipython",
    "version": 3
   },
   "file_extension": ".py",
   "mimetype": "text/x-python",
   "name": "python",
   "nbconvert_exporter": "python",
   "pygments_lexer": "ipython3",
   "version": "3.7.11"
  }
 },
 "nbformat": 4,
 "nbformat_minor": 5
}