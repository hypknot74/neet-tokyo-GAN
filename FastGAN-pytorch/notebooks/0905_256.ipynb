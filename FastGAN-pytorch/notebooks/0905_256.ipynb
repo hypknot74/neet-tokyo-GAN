{
 "cells": [
  {
   "cell_type": "code",
   "execution_count": 9,
   "id": "cfef3d2c-b985-4518-bff2-3a8b6d51942b",
   "metadata": {},
   "outputs": [],
   "source": [
    "CUDA = 0\n",
    "NAME = '0'\n",
    "PATH = '../../dataset/processed_256'\n",
    "\n",
    "# パラメータ\n",
    "IM_SIZE=256\n",
    "NZ = 256\n",
    "NUM_INNER_ITERATIONS = 1\n",
    "ITER = 100000"
   ]
  },
  {
   "cell_type": "code",
   "execution_count": null,
   "id": "0833ad51-c3d3-4e6a-a22a-8a630360be71",
   "metadata": {},
   "outputs": [
    {
     "name": "stdout",
     "output_type": "stream",
     "text": [
      "Setting up Perceptual loss...\n",
      "Loading model from: /workspace/FastGAN-pytorch/lpips/weights/v0.1/vgg.pth\n",
      "...[net-lin [vgg]] initialized\n",
      "...Done\n",
      "Namespace(batch_size=8, ckpt='None', cuda=0, im_size=256, iter=100000, name='0', num_inner_iterations=1, nz=256, path='../../dataset/processed_256', start_iter=0, wandb=True)\n",
      "\u001b[34m\u001b[1mwandb\u001b[0m: Currently logged in as: \u001b[33mhypknot\u001b[0m (use `wandb login --relogin` to force relogin)\n",
      "\u001b[34m\u001b[1mwandb\u001b[0m: Tracking run with wandb version 0.12.1\n",
      "\u001b[34m\u001b[1mwandb\u001b[0m: Syncing run \u001b[33mexpert-pond-9\u001b[0m\n",
      "\u001b[34m\u001b[1mwandb\u001b[0m: ⭐️ View project at \u001b[34m\u001b[4mhttps://wandb.ai/hypknot/neet%20tokyo\u001b[0m\n",
      "\u001b[34m\u001b[1mwandb\u001b[0m: 🚀 View run at \u001b[34m\u001b[4mhttps://wandb.ai/hypknot/neet%20tokyo/runs/123u9hb0\u001b[0m\n",
      "\u001b[34m\u001b[1mwandb\u001b[0m: Run data is saved locally in /workspace/FastGAN-pytorch/notebooks/wandb/run-20210905_073405-123u9hb0\n",
      "\u001b[34m\u001b[1mwandb\u001b[0m: Run `wandb offline` to turn off syncing.\n",
      "\n",
      "  0%|                                                | 0/100001 [00:00<?, ?it/s]/usr/local/lib/python3.7/dist-packages/torch/nn/functional.py:718: UserWarning: Named tensors and all their associated APIs are an experimental feature and subject to change. Please do not use them for anything important until they are released as stable. (Triggered internally at  /pytorch/c10/core/TensorImpl.h:1156.)\n",
      "  return torch.max_pool2d(input, kernel_size, stride, padding, dilation, ceil_mode)\n",
      "GAN: loss d: 0.27728    loss g: -0.13427\n",
      "  0%|                                    | 100/100001 [00:36<9:44:04,  2.85it/s]GAN: loss d: 1.15918    loss g: -1.42334\n",
      "  0%|                                    | 200/100001 [01:09<9:27:08,  2.93it/s]GAN: loss d: 0.44108    loss g: -0.80839\n",
      "  0%|                                    | 300/100001 [01:43<9:43:33,  2.85it/s]GAN: loss d: 0.07513    loss g: -0.48686\n",
      "  0%|▏                                   | 400/100001 [02:17<9:08:05,  3.03it/s]GAN: loss d: 0.98821    loss g: -0.48447\n",
      "  0%|▏                                   | 500/100001 [02:51<9:33:59,  2.89it/s]GAN: loss d: 0.22213    loss g: -0.50926\n",
      "  1%|▏                                   | 600/100001 [03:25<9:27:35,  2.92it/s]GAN: loss d: 0.22911    loss g: -0.34667\n",
      "  1%|▎                                   | 700/100001 [04:00<9:32:05,  2.89it/s]GAN: loss d: 0.04295    loss g: -0.66738\n",
      "  1%|▎                                   | 800/100001 [04:34<9:12:20,  2.99it/s]GAN: loss d: 0.09782    loss g: -0.57530\n",
      "  1%|▎                                   | 900/100001 [05:07<9:21:49,  2.94it/s]GAN: loss d: -0.02169    loss g: -0.13682\n",
      "  1%|▎                                  | 1000/100001 [05:41<9:23:11,  2.93it/s]GAN: loss d: 0.37828    loss g: -0.59463\n",
      "  1%|▍                                  | 1100/100001 [06:15<9:06:52,  3.01it/s]GAN: loss d: 0.08226    loss g: -0.58648\n",
      "  1%|▍                                  | 1200/100001 [06:50<9:33:32,  2.87it/s]GAN: loss d: 0.97240    loss g: -0.05540\n",
      "  1%|▍                                  | 1300/100001 [07:24<9:12:36,  2.98it/s]GAN: loss d: -0.67663    loss g: -0.05416\n",
      "  1%|▍                                  | 1400/100001 [07:57<9:04:14,  3.02it/s]GAN: loss d: 0.47633    loss g: -0.98192\n",
      "  1%|▌                                  | 1500/100001 [08:31<9:31:27,  2.87it/s]GAN: loss d: 0.54746    loss g: -1.14992\n",
      "  2%|▌                                  | 1600/100001 [09:06<9:18:00,  2.94it/s]GAN: loss d: 0.57819    loss g: -0.94809\n",
      "  2%|▌                                  | 1700/100001 [09:40<9:05:16,  3.00it/s]GAN: loss d: 0.51061    loss g: -0.99568\n",
      "  2%|▋                                  | 1800/100001 [10:14<9:27:52,  2.88it/s]GAN: loss d: 0.47370    loss g: -0.81329\n",
      "  2%|▋                                  | 1900/100001 [10:49<8:58:50,  3.03it/s]GAN: loss d: -0.89784    loss g: -0.26128\n",
      "  2%|▋                                  | 2000/100001 [11:22<9:04:17,  3.00it/s]GAN: loss d: -0.20686    loss g: -0.67951\n",
      "  2%|▋                                  | 2100/100001 [11:55<9:10:52,  2.96it/s]GAN: loss d: -0.08221    loss g: -0.37426\n",
      "  2%|▊                                  | 2200/100001 [12:29<9:23:37,  2.89it/s]GAN: loss d: 0.47963    loss g: -1.04051\n",
      "  2%|▊                                  | 2293/100001 [13:01<8:53:59,  3.05it/s]"
     ]
    }
   ],
   "source": [
    "!CUDA_VISIBLE_DEVICES=$CUDA python ../train.py\\\n",
    "--path $PATH --im_size $IM_SIZE  --batch_size 8 --name $NAME \\\n",
    "--num_inner_iterations $NUM_INNER_ITERATIONS --nz $NZ \\\n",
    "--iter $ITER \\\n",
    "--wandb"
   ]
  },
  {
   "cell_type": "markdown",
   "id": "38be4478-dc13-4429-846d-c1daca00e207",
   "metadata": {
    "tags": []
   },
   "source": [
    "# 動画作成"
   ]
  },
  {
   "cell_type": "code",
   "execution_count": 12,
   "id": "acc4b9c3-a7dc-4531-89a8-5ec36de8edd0",
   "metadata": {},
   "outputs": [
    {
     "name": "stdout",
     "output_type": "stream",
     "text": [
      "/workspace/FastGAN-pytorch/notebooks/train_results/0\n"
     ]
    }
   ],
   "source": [
    "cd ./train_results/$NAME/"
   ]
  },
  {
   "cell_type": "code",
   "execution_count": 18,
   "id": "d9fdef10-d9e3-4be7-9c75-81b606c06e05",
   "metadata": {},
   "outputs": [
    {
     "name": "stdout",
     "output_type": "stream",
     "text": [
      "15\n",
      "15\n",
      "generating images ...\n",
      "100%|█████████████████████████████████████████| 222/222 [00:14<00:00, 15.28it/s]\n",
      "making videos ...\n",
      "100%|█████████████████████████████████████| 1780/1780 [00:01<00:00, 1062.80it/s]\n"
     ]
    }
   ],
   "source": [
    "!MKL_SERVICE_FORCE_INTEL=CUDA python ../../../generate_video.py \\\n",
    "--ckpt ./models/100000.pth --name $NAME --im_size $IM_SIZE --nz $NZ "
   ]
  },
  {
   "cell_type": "code",
   "execution_count": null,
   "id": "87f2e827-4d0c-4872-9bd2-e2412e5f8352",
   "metadata": {},
   "outputs": [],
   "source": []
  }
 ],
 "metadata": {
  "kernelspec": {
   "display_name": "Python 3 (ipykernel)",
   "language": "python",
   "name": "python3"
  },
  "language_info": {
   "codemirror_mode": {
    "name": "ipython",
    "version": 3
   },
   "file_extension": ".py",
   "mimetype": "text/x-python",
   "name": "python",
   "nbconvert_exporter": "python",
   "pygments_lexer": "ipython3",
   "version": "3.7.11"
  }
 },
 "nbformat": 4,
 "nbformat_minor": 5
}
