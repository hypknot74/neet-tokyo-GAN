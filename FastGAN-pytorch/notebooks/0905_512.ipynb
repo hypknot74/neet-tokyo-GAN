{
 "cells": [
  {
   "cell_type": "code",
   "execution_count": 1,
   "id": "cfef3d2c-b985-4518-bff2-3a8b6d51942b",
   "metadata": {},
   "outputs": [],
   "source": [
    "CUDA = 1\n",
    "NAME = '1'\n",
    "PATH = '../../dataset/processed_512'\n",
    "\n",
    "# パラメータ\n",
    "IM_SIZE=512\n",
    "NZ = 256\n",
    "NUM_INNER_ITERATIONS = 1\n",
    "ITER = 100000"
   ]
  },
  {
   "cell_type": "code",
   "execution_count": null,
   "id": "0833ad51-c3d3-4e6a-a22a-8a630360be71",
   "metadata": {},
   "outputs": [
    {
     "name": "stdout",
     "output_type": "stream",
     "text": [
      "Setting up Perceptual loss...\n",
      "Loading model from: /workspace/FastGAN-pytorch/lpips/weights/v0.1/vgg.pth\n",
      "...[net-lin [vgg]] initialized\n",
      "...Done\n",
      "Namespace(batch_size=8, ckpt='None', cuda=0, im_size=512, iter=100000, name='1', num_inner_iterations=1, nz=256, path='../../dataset/processed_512', start_iter=0, wandb=True)\n",
      "\u001b[34m\u001b[1mwandb\u001b[0m: Currently logged in as: \u001b[33mhypknot\u001b[0m (use `wandb login --relogin` to force relogin)\n",
      "\u001b[34m\u001b[1mwandb\u001b[0m: Tracking run with wandb version 0.12.1\n",
      "\u001b[34m\u001b[1mwandb\u001b[0m: Syncing run \u001b[33mzany-bush-10\u001b[0m\n",
      "\u001b[34m\u001b[1mwandb\u001b[0m: ⭐️ View project at \u001b[34m\u001b[4mhttps://wandb.ai/hypknot/neet%20tokyo\u001b[0m\n",
      "\u001b[34m\u001b[1mwandb\u001b[0m: 🚀 View run at \u001b[34m\u001b[4mhttps://wandb.ai/hypknot/neet%20tokyo/runs/21pnikh4\u001b[0m\n",
      "\u001b[34m\u001b[1mwandb\u001b[0m: Run data is saved locally in /workspace/FastGAN-pytorch/notebooks/wandb/run-20210905_073407-21pnikh4\n",
      "\u001b[34m\u001b[1mwandb\u001b[0m: Run `wandb offline` to turn off syncing.\n",
      "\n",
      "  0%|                                                | 0/100001 [00:00<?, ?it/s]/usr/local/lib/python3.7/dist-packages/torch/nn/functional.py:718: UserWarning: Named tensors and all their associated APIs are an experimental feature and subject to change. Please do not use them for anything important until they are released as stable. (Triggered internally at  /pytorch/c10/core/TensorImpl.h:1156.)\n",
      "  return torch.max_pool2d(input, kernel_size, stride, padding, dilation, ceil_mode)\n",
      "GAN: loss d: 0.31663    loss g: -0.35939\n",
      "  0%|                                   | 100/100001 [00:48<11:57:13,  2.32it/s]GAN: loss d: 0.41218    loss g: -0.51087\n",
      "  0%|                                   | 200/100001 [01:31<11:52:04,  2.34it/s]GAN: loss d: -0.42481    loss g: -0.49776\n",
      "  0%|                                   | 300/100001 [02:14<11:58:47,  2.31it/s]GAN: loss d: 0.33848    loss g: -0.49266\n",
      "  0%|▏                                  | 400/100001 [02:57<11:48:42,  2.34it/s]GAN: loss d: -0.43050    loss g: -0.84108\n",
      "  0%|▏                                  | 500/100001 [03:41<12:09:49,  2.27it/s]GAN: loss d: 0.13889    loss g: -0.29172\n",
      "  1%|▏                                  | 600/100001 [04:24<11:52:46,  2.32it/s]GAN: loss d: 0.24816    loss g: -0.33853\n",
      "  1%|▏                                  | 700/100001 [05:07<11:54:25,  2.32it/s]GAN: loss d: -0.05558    loss g: -0.22405\n",
      "  1%|▎                                  | 800/100001 [05:50<11:43:09,  2.35it/s]GAN: loss d: 0.58035    loss g: -0.97763\n",
      "  1%|▎                                  | 900/100001 [06:33<11:51:51,  2.32it/s]GAN: loss d: 0.35828    loss g: -0.38834\n",
      "  1%|▎                                 | 1000/100001 [07:16<11:39:34,  2.36it/s]GAN: loss d: 0.23352    loss g: -0.25072\n",
      "  1%|▎                                 | 1100/100001 [07:59<11:44:22,  2.34it/s]GAN: loss d: 0.13866    loss g: -0.48835\n",
      "  1%|▍                                 | 1200/100001 [08:42<11:58:49,  2.29it/s]GAN: loss d: 0.33205    loss g: -0.55686\n",
      "  1%|▍                                 | 1300/100001 [09:26<11:46:34,  2.33it/s]GAN: loss d: 0.09552    loss g: -0.26264\n",
      "  1%|▍                                 | 1400/100001 [10:09<11:50:46,  2.31it/s]GAN: loss d: 0.08990    loss g: -0.62259\n",
      "  1%|▌                                 | 1500/100001 [10:52<11:42:04,  2.34it/s]GAN: loss d: 0.39646    loss g: -0.97080\n",
      "  2%|▌                                 | 1600/100001 [11:34<11:50:36,  2.31it/s]GAN: loss d: -0.11618    loss g: -0.48004\n",
      "  2%|▌                                 | 1659/100001 [12:00<11:57:53,  2.28it/s]"
     ]
    }
   ],
   "source": [
    "!CUDA_VISIBLE_DEVICES=$CUDA python ../train.py\\\n",
    "--path $PATH --im_size $IM_SIZE  --batch_size 8 --name $NAME \\\n",
    "--num_inner_iterations $NUM_INNER_ITERATIONS --nz $NZ \\\n",
    "--iter $ITER \\\n",
    "--wandb"
   ]
  },
  {
   "cell_type": "markdown",
   "id": "87b4d738-fcb3-4641-8a53-9dcbde1581e4",
   "metadata": {
    "tags": []
   },
   "source": [
    "# 動画作成"
   ]
  },
  {
   "cell_type": "code",
   "execution_count": 5,
   "id": "16896392-3403-454f-9102-689bd10c68d7",
   "metadata": {},
   "outputs": [
    {
     "name": "stdout",
     "output_type": "stream",
     "text": [
      "/workspace/FastGAN-pytorch/notebooks/train_results/1\n"
     ]
    }
   ],
   "source": [
    "cd ./train_results/$NAME/"
   ]
  },
  {
   "cell_type": "code",
   "execution_count": 6,
   "id": "6808c6ab-f09f-4580-81c3-771590912204",
   "metadata": {},
   "outputs": [
    {
     "name": "stdout",
     "output_type": "stream",
     "text": [
      "15\n",
      "15\n",
      "generating images ...\n",
      "100%|█████████████████████████████████████████| 222/222 [00:43<00:00,  5.13it/s]\n",
      "making videos ...\n",
      "100%|██████████████████████████████████████| 1780/1780 [00:05<00:00, 312.46it/s]\n"
     ]
    }
   ],
   "source": [
    "!MKL_SERVICE_FORCE_INTEL=CUDA python ../../../generate_video.py \\\n",
    "--ckpt ./models/100000.pth --name $NAME --im_size $IM_SIZE --nz $NZ "
   ]
  },
  {
   "cell_type": "code",
   "execution_count": null,
   "id": "acc4b9c3-a7dc-4531-89a8-5ec36de8edd0",
   "metadata": {},
   "outputs": [],
   "source": []
  }
 ],
 "metadata": {
  "kernelspec": {
   "display_name": "Python 3 (ipykernel)",
   "language": "python",
   "name": "python3"
  },
  "language_info": {
   "codemirror_mode": {
    "name": "ipython",
    "version": 3
   },
   "file_extension": ".py",
   "mimetype": "text/x-python",
   "name": "python",
   "nbconvert_exporter": "python",
   "pygments_lexer": "ipython3",
   "version": "3.7.11"
  }
 },
 "nbformat": 4,
 "nbformat_minor": 5
}
