{
 "cells": [
  {
   "cell_type": "markdown",
   "metadata": {
    "id": "h_l75tV2AVxo"
   },
   "source": [
    "# Youtube Data API v3 を使用して特定のチャンネルの動画とサムネイルを取得する"
   ]
  },
  {
   "cell_type": "markdown",
   "metadata": {
    "id": "J-BbyJ9UAleN"
   },
   "source": [
    "## Youtube API で動画に関する情報を取得\n",
    "チャンネルを指定する際はChannel IDが必要になる。一般的には`https://www.youtube.com/channel/XXXXXXXXX`と表示されるが、カスタムURLを設定しているチャンネルは`https://www.youtube.com/c/XXXXXXXX`と表示される。  \n",
    "カスタムURLを設定しているチャンネルを対象とする場合は、最初にチャンネルIDを調べる必要がある。"
   ]
  },
  {
   "cell_type": "code",
   "execution_count": 16,
   "metadata": {
    "id": "yfmvPueXrjR8"
   },
   "outputs": [],
   "source": [
    "from googleapiclient.discovery import build\n",
    "from oauth2client.tools import argparser"
   ]
  },
  {
   "cell_type": "markdown",
   "metadata": {
    "id": "JiMFYj5uBhD1"
   },
   "source": [
    "### Channel IDを調べる"
   ]
  },
  {
   "cell_type": "code",
   "execution_count": 4,
   "metadata": {
    "colab": {
     "base_uri": "https://localhost:8080/"
    },
    "id": "1-yWXgu44TFg",
    "outputId": "d0730037-27ad-4802-e7f5-0b9398be86b4"
   },
   "outputs": [
    {
     "name": "stdout",
     "output_type": "stream",
     "text": [
      "{'kind': 'youtube#searchResult', 'etag': '6FcjWYFmqg_d9FvawDj6qA-Tuiw', 'id': {'kind': 'youtube#channel', 'channelId': 'UC4kUV8uGKmoQUs1HLzf7jsg'}, 'snippet': {'publishedAt': '2017-09-14T10:22:40Z', 'channelId': 'UC4kUV8uGKmoQUs1HLzf7jsg', 'title': 'ニートtokyo', 'description': 'ヒップホップコミュニティは必見！ ノーカットのショートインタビュー番組「ニートtokyo」 毎晩9時ぐらいにyoutubeで配信中！ 【Twitter】https://twitter.com/neettokyo ...', 'thumbnails': {'default': {'url': 'https://yt3.ggpht.com/ytc/AKedOLSFnAeY3zgubPxxca3DUGVjIGOzIdQTKXzjAzdz=s88-c-k-c0xffffffff-no-rj-mo'}, 'medium': {'url': 'https://yt3.ggpht.com/ytc/AKedOLSFnAeY3zgubPxxca3DUGVjIGOzIdQTKXzjAzdz=s240-c-k-c0xffffffff-no-rj-mo'}, 'high': {'url': 'https://yt3.ggpht.com/ytc/AKedOLSFnAeY3zgubPxxca3DUGVjIGOzIdQTKXzjAzdz=s800-c-k-c0xffffffff-no-rj-mo'}}, 'channelTitle': 'ニートtokyo', 'liveBroadcastContent': 'upcoming', 'publishTime': '2017-09-14T10:22:40Z'}}\n"
     ]
    }
   ],
   "source": [
    "DEVELOPER_KEY = <自分のGCP Developer key>\n",
    "YOUTUBE_API_SERVICE_NAME = \"youtube\"\n",
    "YOUTUBE_API_VERSION = \"v3\"\n",
    "CUSTOM_NAME = \"neet-tokyo\" #チャンネルのcustom url 例：https://www.youtube.com/c/<ここ>\n",
    "\n",
    "youtube = build(YOUTUBE_API_SERVICE_NAME, YOUTUBE_API_VERSION,\n",
    "  developerKey=DEVELOPER_KEY)\n",
    "\n",
    "search_response = youtube.search().list(\n",
    "  q=CUSTOM_NAME,\n",
    "  part=\"snippet\",\n",
    "  type='channel',\n",
    "  maxResults=1,\n",
    "  order=\"relevance\", #関連順にソート\n",
    "  pageToken=''\n",
    "  ).execute()\n",
    "\n",
    "print(search_response.get(\"items\", [])[0])"
   ]
  },
  {
   "cell_type": "markdown",
   "metadata": {
    "id": "eDfGetnJBpPq"
   },
   "source": [
    "### Channel IDから動画とサムネイルのURLを取得"
   ]
  },
  {
   "cell_type": "code",
   "execution_count": 5,
   "metadata": {
    "id": "38oEd68VpQVi"
   },
   "outputs": [],
   "source": [
    "DEVELOPER_KEY = <自分のGCP Developer key>\n",
    "YOUTUBE_API_SERVICE_NAME = \"youtube\"\n",
    "YOUTUBE_API_VERSION = \"v3\"\n",
    "ChannelId = \"UC4kUV8uGKmoQUs1HLzf7jsg\" #上で出力したチャンネルID\n",
    "videos = [] #動画のURLを格納\n",
    "thums = [] #サムネイルのURLを格納\n",
    "\n",
    "def youtube_search(pagetoken):\n",
    "  youtube = build(YOUTUBE_API_SERVICE_NAME, YOUTUBE_API_VERSION,\n",
    "    developerKey=DEVELOPER_KEY)\n",
    "\n",
    "  search_response = youtube.search().list(\n",
    "    q=CUSTOM_NAME,\n",
    "    part=\"snippet\",\n",
    "    channelId= ChannelId,\n",
    "    maxResults=50,\n",
    "    order=\"viewCount\", #日付順にソート\n",
    "    pageToken=pagetoken\n",
    "    ).execute()\n",
    "\n",
    "\n",
    "  for search_result in search_response.get(\"items\", []):\n",
    "    if search_result[\"id\"][\"kind\"] == \"youtube#video\":\n",
    "      videos.append(search_result[\"id\"][\"videoId\"])\n",
    "      thums.append(search_result[\"snippet\"][\"thumbnails\"][\"high\"][\"url\"])\n",
    "\n",
    "  try:\n",
    "      nextPagetoken =  search_response[\"nextPageToken\"] #nextPageTokenが返ってくる限り処理を繰り返す\n",
    "      youtube_search(nextPagetoken)\n",
    "  except:\n",
    "      return\n",
    "\n",
    "youtube_search('')"
   ]
  },
  {
   "cell_type": "code",
   "execution_count": 6,
   "metadata": {
    "colab": {
     "base_uri": "https://localhost:8080/"
    },
    "id": "gDbiEsS_Cp1v",
    "outputId": "ee92f212-752e-4fb0-f67c-196d04e265c5"
   },
   "outputs": [
    {
     "name": "stdout",
     "output_type": "stream",
     "text": [
      "522\n",
      "522\n"
     ]
    }
   ],
   "source": [
    "print(len(videos))\n",
    "print(len(thums))"
   ]
  },
  {
   "cell_type": "code",
   "execution_count": 7,
   "metadata": {
    "colab": {
     "base_uri": "https://localhost:8080/"
    },
    "id": "xsIv40jjL0tI",
    "outputId": "5bafea1d-7a3d-40b4-a61f-d27ef5b4195a"
   },
   "outputs": [
    {
     "data": {
      "text/plain": [
       "['g0PDLoW9_ps', 'rvBp_qOM0L0', '4fiZA4FyhjM']"
      ]
     },
     "execution_count": 7,
     "metadata": {},
     "output_type": "execute_result"
    }
   ],
   "source": [
    "videos[:3]"
   ]
  },
  {
   "cell_type": "code",
   "execution_count": 8,
   "metadata": {
    "colab": {
     "base_uri": "https://localhost:8080/"
    },
    "id": "V3AX7uXiKOAb",
    "outputId": "bd59f3a6-b925-4ddc-9d03-8651e6bf4324"
   },
   "outputs": [
    {
     "data": {
      "text/plain": [
       "['https://i.ytimg.com/vi/g0PDLoW9_ps/hqdefault.jpg',\n",
       " 'https://i.ytimg.com/vi/rvBp_qOM0L0/hqdefault.jpg',\n",
       " 'https://i.ytimg.com/vi/4fiZA4FyhjM/hqdefault.jpg']"
      ]
     },
     "execution_count": 8,
     "metadata": {},
     "output_type": "execute_result"
    }
   ],
   "source": [
    "thums[:3]"
   ]
  },
  {
   "cell_type": "markdown",
   "metadata": {
    "id": "286hF--TNjMK"
   },
   "source": [
    "# 動画から画像を切り出す"
   ]
  },
  {
   "cell_type": "code",
   "execution_count": 9,
   "metadata": {
    "colab": {
     "base_uri": "https://localhost:8080/"
    },
    "id": "wg-uRRk-kslK",
    "outputId": "da698a2e-efbf-4dc5-b88f-b5012a63ee71"
   },
   "outputs": [
    {
     "name": "stdout",
     "output_type": "stream",
     "text": [
      "Requirement already satisfied: youtube_dl in /opt/conda/lib/python3.8/site-packages (2021.6.6)\n",
      "Note: you may need to restart the kernel to use updated packages.\n"
     ]
    }
   ],
   "source": [
    "pip install youtube_dl"
   ]
  },
  {
   "cell_type": "code",
   "execution_count": 14,
   "metadata": {
    "id": "Oc2BlHAGle6d"
   },
   "outputs": [],
   "source": [
    "from __future__ import unicode_literals\n",
    "import youtube_dl\n",
    "\n",
    "import cv2\n",
    "import os \n",
    "import glob\n",
    "from tqdm import tqdm"
   ]
  },
  {
   "cell_type": "code",
   "execution_count": 18,
   "metadata": {},
   "outputs": [],
   "source": [
    "import wandb"
   ]
  },
  {
   "cell_type": "code",
   "execution_count": 20,
   "metadata": {
    "colab": {
     "base_uri": "https://localhost:8080/",
     "height": 1000
    },
    "id": "mECjtWaVpInZ",
    "outputId": "a3d0ebb4-1700-482c-bc02-df2d4877ea56"
   },
   "outputs": [
    {
     "data": {
      "text/html": [
       "Finishing last run (ID:11zs6yko) before initializing another..."
      ],
      "text/plain": [
       "<IPython.core.display.HTML object>"
      ]
     },
     "metadata": {},
     "output_type": "display_data"
    },
    {
     "data": {
      "text/html": [
       "<br/>Waiting for W&B process to finish, PID 8705<br/>Program ended successfully."
      ],
      "text/plain": [
       "<IPython.core.display.HTML object>"
      ]
     },
     "metadata": {},
     "output_type": "display_data"
    },
    {
     "data": {
      "text/html": [
       "Find user logs for this run at: <code>/workspace/NT/wandb/run-20210905_004523-11zs6yko/logs/debug.log</code>"
      ],
      "text/plain": [
       "<IPython.core.display.HTML object>"
      ]
     },
     "metadata": {},
     "output_type": "display_data"
    },
    {
     "data": {
      "text/html": [
       "Find internal logs for this run at: <code>/workspace/NT/wandb/run-20210905_004523-11zs6yko/logs/debug-internal.log</code>"
      ],
      "text/plain": [
       "<IPython.core.display.HTML object>"
      ]
     },
     "metadata": {},
     "output_type": "display_data"
    },
    {
     "data": {
      "text/html": [
       "Synced 5 W&B file(s), 0 media file(s), 0 artifact file(s) and 0 other file(s)"
      ],
      "text/plain": [
       "<IPython.core.display.HTML object>"
      ]
     },
     "metadata": {},
     "output_type": "display_data"
    },
    {
     "data": {
      "text/html": [
       "\n",
       "                    <br/>Synced <strong style=\"color:#cdcd00\">driven-feather-1</strong>: <a href=\"https://wandb.ai/hypknot/neet%20tokyo/runs/11zs6yko\" target=\"_blank\">https://wandb.ai/hypknot/neet%20tokyo/runs/11zs6yko</a><br/>\n",
       "                "
      ],
      "text/plain": [
       "<IPython.core.display.HTML object>"
      ]
     },
     "metadata": {},
     "output_type": "display_data"
    },
    {
     "data": {
      "text/html": [
       "...Successfully finished last run (ID:11zs6yko). Initializing new run:<br/><br/>"
      ],
      "text/plain": [
       "<IPython.core.display.HTML object>"
      ]
     },
     "metadata": {},
     "output_type": "display_data"
    },
    {
     "name": "stderr",
     "output_type": "stream",
     "text": [
      "\n",
      "CondaEnvException: Unable to determine environment\n",
      "\n",
      "Please re-run this command with one of the following options:\n",
      "\n",
      "* Provide an environment name via --name or -n\n",
      "* Re-run this command inside an activated conda environment.\n",
      "\n"
     ]
    },
    {
     "data": {
      "text/html": [
       "\n",
       "                Tracking run with wandb version 0.12.1<br/>\n",
       "                Syncing run <strong style=\"color:#cdcd00\">vibrant-snowflake-2</strong> to <a href=\"https://wandb.ai\" target=\"_blank\">Weights & Biases</a> <a href=\"https://docs.wandb.com/integrations/jupyter.html\" target=\"_blank\">(Documentation)</a>.<br/>\n",
       "                Project page: <a href=\"https://wandb.ai/hypknot/neet%20tokyo\" target=\"_blank\">https://wandb.ai/hypknot/neet%20tokyo</a><br/>\n",
       "                Run page: <a href=\"https://wandb.ai/hypknot/neet%20tokyo/runs/31nj8rtb\" target=\"_blank\">https://wandb.ai/hypknot/neet%20tokyo/runs/31nj8rtb</a><br/>\n",
       "                Run data is saved locally in <code>/workspace/NT/wandb/run-20210905_015601-31nj8rtb</code><br/><br/>\n",
       "            "
      ],
      "text/plain": [
       "<IPython.core.display.HTML object>"
      ]
     },
     "metadata": {},
     "output_type": "display_data"
    },
    {
     "name": "stderr",
     "output_type": "stream",
     "text": [
      "  0%|                                                                                                                                                                                 | 0/41 [00:00<?, ?it/s]"
     ]
    },
    {
     "name": "stdout",
     "output_type": "stream",
     "text": [
      "[youtube] xg3F9K4Ivew: Downloading webpage\n",
      "[download] Destination: ¥ellow Bucks：ラップ以前の特技-xg3F9K4Ivew.f137.mp4\n",
      "[download] 100% of 8.44MiB in 02:1842KiB/s ETA 00:008\n",
      "[download] Destination: ¥ellow Bucks：ラップ以前の特技-xg3F9K4Ivew.f140.m4a\n",
      "[download] 100% of 1016.88KiB in 00:1687KiB/s ETA 00:007\n",
      "[ffmpeg] Merging formats into \"¥ellow Bucks：ラップ以前の特技-xg3F9K4Ivew.mp4\"\n",
      "Deleting original file ¥ellow Bucks：ラップ以前の特技-xg3F9K4Ivew.f137.mp4 (pass -k to keep)\n",
      "Deleting original file ¥ellow Bucks：ラップ以前の特技-xg3F9K4Ivew.f140.m4a (pass -k to keep)\n"
     ]
    },
    {
     "name": "stderr",
     "output_type": "stream",
     "text": [
      "  2%|████                                                                                                                                                                  | 1/41 [02:37<1:45:18, 157.96s/it]"
     ]
    },
    {
     "name": "stdout",
     "output_type": "stream",
     "text": [
      "[youtube] bYtpxNsyNz4: Downloading webpage\n",
      "[download] Destination: DOGMA & JNKMN  - 人生でやめて一番よかったこと 〜'Authority'のフリースタイルに喰らった思い出(JNKMN)-bYtpxNsyNz4.f137.mp4\n",
      "[download] 100% of 34.35MiB in 00:0169MiB/s ETA 00:00known ETA\n",
      "[download] Destination: DOGMA & JNKMN  - 人生でやめて一番よかったこと 〜'Authority'のフリースタイルに喰らった思い出(JNKMN)-bYtpxNsyNz4.f140.m4a\n",
      "[download] 100% of 1.82MiB in 00:0048MiB/s ETA 00:002\n",
      "[ffmpeg] Merging formats into \"DOGMA & JNKMN  - 人生でやめて一番よかったこと 〜'Authority'のフリースタイルに喰らった思い出(JNKMN)-bYtpxNsyNz4.mp4\"\n",
      "Deleting original file DOGMA & JNKMN  - 人生でやめて一番よかったこと 〜'Authority'のフリースタイルに喰らった思い出(JNKMN)-bYtpxNsyNz4.f137.mp4 (pass -k to keep)\n",
      "Deleting original file DOGMA & JNKMN  - 人生でやめて一番よかったこと 〜'Authority'のフリースタイルに喰らった思い出(JNKMN)-bYtpxNsyNz4.f140.m4a (pass -k to keep)\n"
     ]
    },
    {
     "name": "stderr",
     "output_type": "stream",
     "text": [
      "  5%|████████                                                                                                                                                              | 2/41 [02:43<1:12:56, 112.21s/it]"
     ]
    },
    {
     "name": "stdout",
     "output_type": "stream",
     "text": [
      "[youtube] NFCGRFIO0y8: Downloading webpage\n"
     ]
    },
    {
     "name": "stderr",
     "output_type": "stream",
     "text": [
      "WARNING: Requested formats are incompatible for merge and will be merged into mkv.\n"
     ]
    },
    {
     "name": "stdout",
     "output_type": "stream",
     "text": [
      "[download] Destination: Marukido  - 土下座をしてでも謝りたい人-NFCGRFIO0y8.f248.webm\n",
      "[download] 100% of 45.32MiB in 00:0158MiB/s ETA 00:00known ETA\n",
      "[download] Destination: Marukido  - 土下座をしてでも謝りたい人-NFCGRFIO0y8.f140.m4a\n",
      "[download] 100% of 2.71MiB in 00:0027MiB/s ETA 00:003\n",
      "[ffmpeg] Merging formats into \"Marukido  - 土下座をしてでも謝りたい人-NFCGRFIO0y8.mkv\"\n",
      "Deleting original file Marukido  - 土下座をしてでも謝りたい人-NFCGRFIO0y8.f248.webm (pass -k to keep)\n",
      "Deleting original file Marukido  - 土下座をしてでも謝りたい人-NFCGRFIO0y8.f140.m4a (pass -k to keep)\n"
     ]
    },
    {
     "name": "stderr",
     "output_type": "stream",
     "text": [
      "  7%|████████████▎                                                                                                                                                            | 3/41 [02:51<51:18, 81.02s/it]"
     ]
    },
    {
     "name": "stdout",
     "output_type": "stream",
     "text": [
      "[youtube] 99DELZX1clg: Downloading webpage\n"
     ]
    },
    {
     "name": "stderr",
     "output_type": "stream",
     "text": [
      "WARNING: Requested formats are incompatible for merge and will be merged into mkv.\n"
     ]
    },
    {
     "name": "stdout",
     "output_type": "stream",
     "text": [
      "[download] Destination: Franz K Endo  - 兄とのビーフ-99DELZX1clg.f248.webm\n",
      "[download] 100% of 15.46MiB in 00:0047MiB/s ETA 00:00known ETA\n",
      "[download] Destination: Franz K Endo  - 兄とのビーフ-99DELZX1clg.f140.m4a\n",
      "[download] 100% of 2.46MiB in 00:0021MiB/s ETA 00:002\n",
      "[ffmpeg] Merging formats into \"Franz K Endo  - 兄とのビーフ-99DELZX1clg.mkv\"\n",
      "Deleting original file Franz K Endo  - 兄とのビーフ-99DELZX1clg.f248.webm (pass -k to keep)\n",
      "Deleting original file Franz K Endo  - 兄とのビーフ-99DELZX1clg.f140.m4a (pass -k to keep)\n"
     ]
    },
    {
     "name": "stderr",
     "output_type": "stream",
     "text": [
      " 10%|████████████████▍                                                                                                                                                        | 4/41 [02:57<36:02, 58.43s/it]"
     ]
    },
    {
     "name": "stdout",
     "output_type": "stream",
     "text": [
      "[youtube] ydcTjv0A72M: Downloading webpage\n"
     ]
    },
    {
     "name": "stderr",
     "output_type": "stream",
     "text": [
      "WARNING: Requested formats are incompatible for merge and will be merged into mkv.\n"
     ]
    },
    {
     "name": "stdout",
     "output_type": "stream",
     "text": [
      "[download] Destination: 18scott  - 人生最大の悪事について-ydcTjv0A72M.f248.webm\n",
      "[download] 100% of 16.56MiB in 05:2011KiB/s ETA 00:00\n",
      "[download] Destination: 18scott  - 人生最大の悪事について-ydcTjv0A72M.f140.m4a\n",
      "[download] 100% of 2.13MiB in 00:4825KiB/s ETA 00:00\n",
      "[ffmpeg] Merging formats into \"18scott  - 人生最大の悪事について-ydcTjv0A72M.mkv\"\n",
      "Deleting original file 18scott  - 人生最大の悪事について-ydcTjv0A72M.f248.webm (pass -k to keep)\n",
      "Deleting original file 18scott  - 人生最大の悪事について-ydcTjv0A72M.f140.m4a (pass -k to keep)\n"
     ]
    },
    {
     "name": "stderr",
     "output_type": "stream",
     "text": [
      " 12%|████████████████████▏                                                                                                                                                 | 5/41 [09:11<1:31:51, 153.10s/it]"
     ]
    },
    {
     "name": "stdout",
     "output_type": "stream",
     "text": [
      "[youtube] f7Twt-89StI: Downloading webpage\n"
     ]
    },
    {
     "name": "stderr",
     "output_type": "stream",
     "text": [
      "WARNING: Requested formats are incompatible for merge and will be merged into mkv.\n"
     ]
    },
    {
     "name": "stdout",
     "output_type": "stream",
     "text": [
      "[download] Destination: Nadia(BananaLemon)  - 最低のバッドトリップ 〜何よりです〜-f7Twt-89StI.f248.webm\n",
      "[download] 100% of 7.84MiB in 00:0046MiB/s ETA 00:000\n",
      "[download] Destination: Nadia(BananaLemon)  - 最低のバッドトリップ 〜何よりです〜-f7Twt-89StI.f140.m4a\n",
      "[download] 100% of 1.03MiB in 00:0071MiB/s ETA 00:001\n",
      "[ffmpeg] Merging formats into \"Nadia(BananaLemon)  - 最低のバッドトリップ 〜何よりです〜-f7Twt-89StI.mkv\"\n",
      "Deleting original file Nadia(BananaLemon)  - 最低のバッドトリップ 〜何よりです〜-f7Twt-89StI.f248.webm (pass -k to keep)\n",
      "Deleting original file Nadia(BananaLemon)  - 最低のバッドトリップ 〜何よりです〜-f7Twt-89StI.f140.m4a (pass -k to keep)\n"
     ]
    },
    {
     "name": "stderr",
     "output_type": "stream",
     "text": [
      " 15%|████████████████████████▎                                                                                                                                             | 6/41 [09:17<1:03:35, 109.02s/it]"
     ]
    },
    {
     "name": "stdout",
     "output_type": "stream",
     "text": [
      "[youtube] y6jaTWSWJEA: Downloading webpage\n"
     ]
    },
    {
     "name": "stderr",
     "output_type": "stream",
     "text": [
      "WARNING: Requested formats are incompatible for merge and will be merged into mkv.\n"
     ]
    },
    {
     "name": "stdout",
     "output_type": "stream",
     "text": [
      "[download] Destination: t-Ace  - 女性のタイプ-y6jaTWSWJEA.f248.webm\n",
      "[download] 100% of 10.34MiB in 00:0161MiB/s ETA 00:001\n",
      "[download] Destination: t-Ace  - 女性のタイプ-y6jaTWSWJEA.f140.m4a\n",
      "[download] 100% of 1015.91KiB in 00:0073MiB/s ETA 00:001\n",
      "[ffmpeg] Merging formats into \"t-Ace  - 女性のタイプ-y6jaTWSWJEA.mkv\"\n",
      "Deleting original file t-Ace  - 女性のタイプ-y6jaTWSWJEA.f248.webm (pass -k to keep)\n",
      "Deleting original file t-Ace  - 女性のタイプ-y6jaTWSWJEA.f140.m4a (pass -k to keep)\n"
     ]
    },
    {
     "name": "stderr",
     "output_type": "stream",
     "text": [
      " 17%|████████████████████████████▊                                                                                                                                            | 7/41 [09:25<44:33, 78.63s/it]"
     ]
    },
    {
     "name": "stdout",
     "output_type": "stream",
     "text": [
      "[youtube] WRyp9eTIU0c: Downloading webpage\n"
     ]
    },
    {
     "name": "stderr",
     "output_type": "stream",
     "text": [
      "WARNING: Requested formats are incompatible for merge and will be merged into mkv.\n"
     ]
    },
    {
     "name": "stdout",
     "output_type": "stream",
     "text": [
      "[download] Destination: Jin Dogg：少年時代-WRyp9eTIU0c.f248.webm\n",
      "[download] 100% of 10.94MiB in 00:0091MiB/s ETA 00:001\n",
      "[download] Destination: Jin Dogg：少年時代-WRyp9eTIU0c.f140.m4a\n",
      "[download] 100% of 1.42MiB in 00:0042MiB/s ETA 00:001\n",
      "[ffmpeg] Merging formats into \"Jin Dogg：少年時代-WRyp9eTIU0c.mkv\"\n",
      "Deleting original file Jin Dogg：少年時代-WRyp9eTIU0c.f248.webm (pass -k to keep)\n",
      "Deleting original file Jin Dogg：少年時代-WRyp9eTIU0c.f140.m4a (pass -k to keep)\n"
     ]
    },
    {
     "name": "stderr",
     "output_type": "stream",
     "text": [
      " 20%|████████████████████████████████▉                                                                                                                                        | 8/41 [09:31<31:21, 57.03s/it]"
     ]
    },
    {
     "name": "stdout",
     "output_type": "stream",
     "text": [
      "[youtube] 8M6ZOezTSQ4: Downloading webpage\n",
      "[download] Destination: Doja Cat  - About Hentai Manga (変態漫画)-8M6ZOezTSQ4.f137.mp4\n",
      "[download] 100% of 17.52MiB in 00:0015MiB/s ETA 00:00:02wn ETA\n",
      "[download] Destination: Doja Cat  - About Hentai Manga (変態漫画)-8M6ZOezTSQ4.f140.m4a\n",
      "[download] 100% of 1.29MiB in 00:0073MiB/s ETA 00:001\n",
      "[ffmpeg] Merging formats into \"Doja Cat  - About Hentai Manga (変態漫画)-8M6ZOezTSQ4.mp4\"\n",
      "Deleting original file Doja Cat  - About Hentai Manga (変態漫画)-8M6ZOezTSQ4.f137.mp4 (pass -k to keep)\n",
      "Deleting original file Doja Cat  - About Hentai Manga (変態漫画)-8M6ZOezTSQ4.f140.m4a (pass -k to keep)\n"
     ]
    },
    {
     "name": "stderr",
     "output_type": "stream",
     "text": [
      " 22%|█████████████████████████████████████                                                                                                                                    | 9/41 [09:35<21:56, 41.15s/it]"
     ]
    },
    {
     "name": "stdout",
     "output_type": "stream",
     "text": [
      "[youtube] jA5aaeWgBt4: Downloading webpage\n"
     ]
    },
    {
     "name": "stderr",
     "output_type": "stream",
     "text": [
      "WARNING: Requested formats are incompatible for merge and will be merged into mkv.\n"
     ]
    },
    {
     "name": "stdout",
     "output_type": "stream",
     "text": [
      "[download] Destination: NaiChopLaw(舐達麻)  - 日本では何故違法なのか-jA5aaeWgBt4.f248.webm\n",
      "[download] 100% of 3.47MiB in 00:0096MiB/s ETA 00:004\n",
      "[download] Destination: NaiChopLaw(舐達麻)  - 日本では何故違法なのか-jA5aaeWgBt4.f140.m4a\n",
      "[download] 100% of 1.01MiB in 00:0071MiB/s ETA 00:001\n",
      "[ffmpeg] Merging formats into \"NaiChopLaw(舐達麻)  - 日本では何故違法なのか-jA5aaeWgBt4.mkv\"\n",
      "Deleting original file NaiChopLaw(舐達麻)  - 日本では何故違法なのか-jA5aaeWgBt4.f248.webm (pass -k to keep)\n",
      "Deleting original file NaiChopLaw(舐達麻)  - 日本では何故違法なのか-jA5aaeWgBt4.f140.m4a (pass -k to keep)\n"
     ]
    },
    {
     "name": "stderr",
     "output_type": "stream",
     "text": [
      " 24%|████████████████████████████████████████▉                                                                                                                               | 10/41 [09:41<15:40, 30.34s/it]"
     ]
    },
    {
     "name": "stdout",
     "output_type": "stream",
     "text": [
      "[youtube] EX1HJ1AmwEk: Downloading webpage\n",
      "[download] Destination: KENNY G  - 共演したいアーティスト-EX1HJ1AmwEk.f137.mp4\n",
      "[download] 100% of 1.89MiB in 00:0099MiB/s ETA 00:002\n",
      "[download] Destination: KENNY G  - 共演したいアーティスト-EX1HJ1AmwEk.f140.m4a\n",
      "[download] 100% of 531.01KiB in 00:0063MiB/s ETA 00:000\n",
      "[ffmpeg] Merging formats into \"KENNY G  - 共演したいアーティスト-EX1HJ1AmwEk.mp4\"\n",
      "Deleting original file KENNY G  - 共演したいアーティスト-EX1HJ1AmwEk.f137.mp4 (pass -k to keep)\n",
      "Deleting original file KENNY G  - 共演したいアーティスト-EX1HJ1AmwEk.f140.m4a (pass -k to keep)\n"
     ]
    },
    {
     "name": "stderr",
     "output_type": "stream",
     "text": [
      " 27%|█████████████████████████████████████████████                                                                                                                           | 11/41 [09:44<11:05, 22.20s/it]"
     ]
    },
    {
     "name": "stdout",
     "output_type": "stream",
     "text": [
      "[youtube] XcTzva3Jsw0: Downloading webpage\n",
      "[download] Destination: ralph  - 職質体験 〜職質無限ループ〜-XcTzva3Jsw0.f137.mp4\n",
      "[download] 100% of 5.66MiB in 00:0006MiB/s ETA 00:006\n",
      "[download] Destination: ralph  - 職質体験 〜職質無限ループ〜-XcTzva3Jsw0.f140.m4a\n",
      "[download] 100% of 1.08MiB in 00:0021MiB/s ETA 00:001\n",
      "[ffmpeg] Merging formats into \"ralph  - 職質体験 〜職質無限ループ〜-XcTzva3Jsw0.mp4\"\n",
      "Deleting original file ralph  - 職質体験 〜職質無限ループ〜-XcTzva3Jsw0.f137.mp4 (pass -k to keep)\n",
      "Deleting original file ralph  - 職質体験 〜職質無限ループ〜-XcTzva3Jsw0.f140.m4a (pass -k to keep)\n"
     ]
    },
    {
     "name": "stderr",
     "output_type": "stream",
     "text": [
      " 29%|█████████████████████████████████████████████████▏                                                                                                                      | 12/41 [09:47<08:01, 16.62s/it]"
     ]
    },
    {
     "name": "stdout",
     "output_type": "stream",
     "text": [
      "[youtube] z2kNcExsyrk: Downloading webpage\n"
     ]
    },
    {
     "name": "stderr",
     "output_type": "stream",
     "text": [
      "WARNING: Requested formats are incompatible for merge and will be merged into mkv.\n"
     ]
    },
    {
     "name": "stdout",
     "output_type": "stream",
     "text": [
      "[download] Destination: たかやん  - 自己紹介-z2kNcExsyrk.f248.webm\n",
      "[download] 100% of 1.89MiB in 00:0044MiB/s ETA 00:002\n",
      "[download] Destination: たかやん  - 自己紹介-z2kNcExsyrk.f140.m4a\n",
      "[download] 100% of 725.48KiB in 00:0086MiB/s ETA 00:00known ETA\n",
      "[ffmpeg] Merging formats into \"たかやん  - 自己紹介-z2kNcExsyrk.mkv\"\n",
      "Deleting original file たかやん  - 自己紹介-z2kNcExsyrk.f248.webm (pass -k to keep)\n",
      "Deleting original file たかやん  - 自己紹介-z2kNcExsyrk.f140.m4a (pass -k to keep)\n"
     ]
    },
    {
     "name": "stderr",
     "output_type": "stream",
     "text": [
      " 32%|█████████████████████████████████████████████████████▎                                                                                                                  | 13/41 [09:52<06:03, 12.97s/it]"
     ]
    },
    {
     "name": "stdout",
     "output_type": "stream",
     "text": [
      "[youtube] kaD-TJ4HejE: Downloading webpage\n"
     ]
    },
    {
     "name": "stderr",
     "output_type": "stream",
     "text": [
      "WARNING: Requested formats are incompatible for merge and will be merged into mkv.\n"
     ]
    },
    {
     "name": "stdout",
     "output_type": "stream",
     "text": [
      "[download] Destination: Pizza Love：番号晒して起こった事-kaD-TJ4HejE.f248.webm\n",
      "[download] 100% of 3.65MiB in 00:0098MiB/s ETA 00:004\n",
      "[download] Destination: Pizza Love：番号晒して起こった事-kaD-TJ4HejE.f140.m4a\n",
      "[download] 100% of 842.60KiB in 00:0038MiB/s ETA 00:000\n",
      "[ffmpeg] Merging formats into \"Pizza Love：番号晒して起こった事-kaD-TJ4HejE.mkv\"\n",
      "Deleting original file Pizza Love：番号晒して起こった事-kaD-TJ4HejE.f248.webm (pass -k to keep)\n",
      "Deleting original file Pizza Love：番号晒して起こった事-kaD-TJ4HejE.f140.m4a (pass -k to keep)\n"
     ]
    },
    {
     "name": "stderr",
     "output_type": "stream",
     "text": [
      " 34%|█████████████████████████████████████████████████████████▎                                                                                                              | 14/41 [09:57<04:46, 10.60s/it]"
     ]
    },
    {
     "name": "stdout",
     "output_type": "stream",
     "text": [
      "[youtube] b5w8743hg7k: Downloading webpage\n"
     ]
    },
    {
     "name": "stderr",
     "output_type": "stream",
     "text": [
      "WARNING: Requested formats are incompatible for merge and will be merged into mkv.\n"
     ]
    },
    {
     "name": "stdout",
     "output_type": "stream",
     "text": [
      "[download] Destination: TIP (APHRODITEGANG)  - Tattooについて-b5w8743hg7k.f248.webm\n",
      "[download] 100% of 22.21MiB in 00:0073MiB/s ETA 00:00known ETA\n",
      "[download] Destination: TIP (APHRODITEGANG)  - Tattooについて-b5w8743hg7k.f140.m4a\n",
      "[download] 100% of 1.91MiB in 00:0057MiB/s ETA 00:002\n",
      "[ffmpeg] Merging formats into \"TIP (APHRODITEGANG)  - Tattooについて-b5w8743hg7k.mkv\"\n",
      "Deleting original file TIP (APHRODITEGANG)  - Tattooについて-b5w8743hg7k.f248.webm (pass -k to keep)\n",
      "Deleting original file TIP (APHRODITEGANG)  - Tattooについて-b5w8743hg7k.f140.m4a (pass -k to keep)\n"
     ]
    },
    {
     "name": "stderr",
     "output_type": "stream",
     "text": [
      " 37%|█████████████████████████████████████████████████████████████▍                                                                                                          | 15/41 [10:03<04:02,  9.34s/it]"
     ]
    },
    {
     "name": "stdout",
     "output_type": "stream",
     "text": [
      "[youtube] FE8sJKWDeeM: Downloading webpage\n"
     ]
    },
    {
     "name": "stderr",
     "output_type": "stream",
     "text": [
      "WARNING: Requested formats are incompatible for merge and will be merged into mkv.\n"
     ]
    },
    {
     "name": "stdout",
     "output_type": "stream",
     "text": [
      "[download] Destination: アントニー  - 童貞喪失体験 ～春日部の一夜-FE8sJKWDeeM.f248.webm\n",
      "[download] 100% of 7.51MiB in 00:0016MiB/s ETA 00:008\n",
      "[download] Destination: アントニー  - 童貞喪失体験 ～春日部の一夜-FE8sJKWDeeM.f140.m4a\n",
      "[download] 100% of 1.40MiB in 00:0018MiB/s ETA 00:001\n",
      "[ffmpeg] Merging formats into \"アントニー  - 童貞喪失体験 ～春日部の一夜-FE8sJKWDeeM.mkv\"\n",
      "Deleting original file アントニー  - 童貞喪失体験 ～春日部の一夜-FE8sJKWDeeM.f248.webm (pass -k to keep)\n",
      "Deleting original file アントニー  - 童貞喪失体験 ～春日部の一夜-FE8sJKWDeeM.f140.m4a (pass -k to keep)\n"
     ]
    },
    {
     "name": "stderr",
     "output_type": "stream",
     "text": [
      " 39%|█████████████████████████████████████████████████████████████████▌                                                                                                      | 16/41 [10:09<03:29,  8.37s/it]"
     ]
    },
    {
     "name": "stdout",
     "output_type": "stream",
     "text": [
      "[youtube] 0mw1Y_gpJfM: Downloading webpage\n"
     ]
    },
    {
     "name": "stderr",
     "output_type": "stream",
     "text": [
      "WARNING: Requested formats are incompatible for merge and will be merged into mkv.\n"
     ]
    },
    {
     "name": "stdout",
     "output_type": "stream",
     "text": [
      "[download] Destination: ID： 少年時代 (サイコパス)-0mw1Y_gpJfM.f248.webm\n",
      "[download] 100% of 12.97MiB in 00:0049MiB/s ETA 00:00known ETA\n",
      "[download] Destination: ID： 少年時代 (サイコパス)-0mw1Y_gpJfM.f140.m4a\n",
      "[download] 100% of 1.30MiB in 00:0013MiB/s ETA 00:001\n",
      "[ffmpeg] Merging formats into \"ID： 少年時代 (サイコパス)-0mw1Y_gpJfM.mkv\"\n",
      "Deleting original file ID： 少年時代 (サイコパス)-0mw1Y_gpJfM.f248.webm (pass -k to keep)\n",
      "Deleting original file ID： 少年時代 (サイコパス)-0mw1Y_gpJfM.f140.m4a (pass -k to keep)\n"
     ]
    },
    {
     "name": "stderr",
     "output_type": "stream",
     "text": [
      " 41%|█████████████████████████████████████████████████████████████████████▋                                                                                                  | 17/41 [10:16<03:08,  7.87s/it]"
     ]
    },
    {
     "name": "stdout",
     "output_type": "stream",
     "text": [
      "[youtube] Ccz-UtCX7mE: Downloading webpage\n"
     ]
    },
    {
     "name": "stderr",
     "output_type": "stream",
     "text": [
      "WARNING: Requested formats are incompatible for merge and will be merged into mkv.\n"
     ]
    },
    {
     "name": "stdout",
     "output_type": "stream",
     "text": [
      "[download] Destination: 髪切り屋 KENSHI  - タトゥーについて-Ccz-UtCX7mE.f248.webm\n",
      "[download] 100% of 10.74MiB in 00:0044MiB/s ETA 00:00known ETA\n",
      "[download] Destination: 髪切り屋 KENSHI  - タトゥーについて-Ccz-UtCX7mE.f140.m4a\n",
      "[download] 100% of 2.30MiB in 00:0074MiB/s ETA 00:00known ETA\n",
      "[ffmpeg] Merging formats into \"髪切り屋 KENSHI  - タトゥーについて-Ccz-UtCX7mE.mkv\"\n",
      "Deleting original file 髪切り屋 KENSHI  - タトゥーについて-Ccz-UtCX7mE.f248.webm (pass -k to keep)\n",
      "Deleting original file 髪切り屋 KENSHI  - タトゥーについて-Ccz-UtCX7mE.f140.m4a (pass -k to keep)\n"
     ]
    },
    {
     "name": "stderr",
     "output_type": "stream",
     "text": [
      " 44%|█████████████████████████████████████████████████████████████████████████▊                                                                                              | 18/41 [10:22<02:44,  7.14s/it]"
     ]
    },
    {
     "name": "stdout",
     "output_type": "stream",
     "text": [
      "[youtube] XwP1VV9Vtyo: Downloading webpage\n",
      "[download] Destination: REAL-T  - 完黙を貫くための秘訣-XwP1VV9Vtyo.f137.mp4\n",
      "[download] 100% of 4.11MiB in 00:0014MiB/s ETA 00:004\n",
      "[download] Destination: REAL-T  - 完黙を貫くための秘訣-XwP1VV9Vtyo.f140.m4a\n",
      "[download] 100% of 663.14KiB in 00:0031MiB/s ETA 00:00known ETA\n",
      "[ffmpeg] Merging formats into \"REAL-T  - 完黙を貫くための秘訣-XwP1VV9Vtyo.mp4\"\n",
      "Deleting original file REAL-T  - 完黙を貫くための秘訣-XwP1VV9Vtyo.f137.mp4 (pass -k to keep)\n",
      "Deleting original file REAL-T  - 完黙を貫くための秘訣-XwP1VV9Vtyo.f140.m4a (pass -k to keep)\n"
     ]
    },
    {
     "name": "stderr",
     "output_type": "stream",
     "text": [
      " 46%|█████████████████████████████████████████████████████████████████████████████▊                                                                                          | 19/41 [10:25<02:14,  6.09s/it]"
     ]
    },
    {
     "name": "stdout",
     "output_type": "stream",
     "text": [
      "[youtube] XKtjJk0YUr4: Downloading webpage\n"
     ]
    },
    {
     "name": "stderr",
     "output_type": "stream",
     "text": [
      "WARNING: Requested formats are incompatible for merge and will be merged into mkv.\n"
     ]
    },
    {
     "name": "stdout",
     "output_type": "stream",
     "text": [
      "[download] Destination: FRANKEN：Weedについて-XKtjJk0YUr4.f248.webm\n",
      "[download] 100% of 7.56MiB in 00:0016MiB/s ETA 00:009\n",
      "[download] Destination: FRANKEN：Weedについて-XKtjJk0YUr4.f140.m4a\n",
      "[download] 100% of 786.38KiB in 00:0074MiB/s ETA 00:000\n",
      "[ffmpeg] Merging formats into \"FRANKEN：Weedについて-XKtjJk0YUr4.mkv\"\n",
      "Deleting original file FRANKEN：Weedについて-XKtjJk0YUr4.f248.webm (pass -k to keep)\n",
      "Deleting original file FRANKEN：Weedについて-XKtjJk0YUr4.f140.m4a (pass -k to keep)\n"
     ]
    },
    {
     "name": "stderr",
     "output_type": "stream",
     "text": [
      " 49%|█████████████████████████████████████████████████████████████████████████████████▉                                                                                      | 20/41 [10:33<02:21,  6.72s/it]"
     ]
    },
    {
     "name": "stdout",
     "output_type": "stream",
     "text": [
      "[youtube] ix8JVet3NO4: Downloading webpage\n"
     ]
    },
    {
     "name": "stderr",
     "output_type": "stream",
     "text": [
      "WARNING: Requested formats are incompatible for merge and will be merged into mkv.\n"
     ]
    },
    {
     "name": "stdout",
     "output_type": "stream",
     "text": [
      "[download] Destination: FUJI TRILL：少年時代-ix8JVet3NO4.f248.webm\n",
      "[download] 100% of 17.22MiB in 00:0087MiB/s ETA 00:00known ETA\n",
      "[download] Destination: FUJI TRILL：少年時代-ix8JVet3NO4.f140.m4a\n",
      "[download] 100% of 2.07MiB in 00:0028MiB/s ETA 00:002\n",
      "[ffmpeg] Merging formats into \"FUJI TRILL：少年時代-ix8JVet3NO4.mkv\"\n",
      "Deleting original file FUJI TRILL：少年時代-ix8JVet3NO4.f248.webm (pass -k to keep)\n",
      "Deleting original file FUJI TRILL：少年時代-ix8JVet3NO4.f140.m4a (pass -k to keep)\n"
     ]
    },
    {
     "name": "stderr",
     "output_type": "stream",
     "text": [
      " 51%|██████████████████████████████████████████████████████████████████████████████████████                                                                                  | 21/41 [10:40<02:13,  6.66s/it]"
     ]
    },
    {
     "name": "stdout",
     "output_type": "stream",
     "text": [
      "[youtube] 3YR4aTEsJms: Downloading webpage\n"
     ]
    },
    {
     "name": "stderr",
     "output_type": "stream",
     "text": [
      "WARNING: Requested formats are incompatible for merge and will be merged into mkv.\n"
     ]
    },
    {
     "name": "stdout",
     "output_type": "stream",
     "text": [
      "[download] Destination: なかむらみなみ（TENG GANG STARR）：恐怖体験 〜キャバクラ店長〜-3YR4aTEsJms.f248.webm\n",
      "[download] 100% of 12.74MiB in 00:0001MiB/s ETA 00:00known ETA\n",
      "[download] Destination: なかむらみなみ（TENG GANG STARR）：恐怖体験 〜キャバクラ店長〜-3YR4aTEsJms.f140.m4a\n",
      "[download] 100% of 2.18MiB in 00:0056MiB/s ETA 00:002\n",
      "[ffmpeg] Merging formats into \"なかむらみなみ（TENG GANG STARR）：恐怖体験 〜キャバクラ店長〜-3YR4aTEsJms.mkv\"\n",
      "Deleting original file なかむらみなみ（TENG GANG STARR）：恐怖体験 〜キャバクラ店長〜-3YR4aTEsJms.f248.webm (pass -k to keep)\n",
      "Deleting original file なかむらみなみ（TENG GANG STARR）：恐怖体験 〜キャバクラ店長〜-3YR4aTEsJms.f140.m4a (pass -k to keep)\n"
     ]
    },
    {
     "name": "stderr",
     "output_type": "stream",
     "text": [
      " 54%|██████████████████████████████████████████████████████████████████████████████████████████▏                                                                             | 22/41 [10:46<02:03,  6.48s/it]"
     ]
    },
    {
     "name": "stdout",
     "output_type": "stream",
     "text": [
      "[youtube] 2wI6fPlMSdU: Downloading webpage\n"
     ]
    },
    {
     "name": "stderr",
     "output_type": "stream",
     "text": [
      "WARNING: Requested formats are incompatible for merge and will be merged into mkv.\n"
     ]
    },
    {
     "name": "stdout",
     "output_type": "stream",
     "text": [
      "[download] Destination: 言xTHEANSWER：名前の由来-2wI6fPlMSdU.f248.webm\n",
      "[download] 100% of 8.80MiB in 00:0069MiB/s ETA 00:003\n",
      "[download] Destination: 言xTHEANSWER：名前の由来-2wI6fPlMSdU.f140.m4a\n",
      "[download] 100% of 2.09MiB in 00:0044MiB/s ETA 00:002\n",
      "[ffmpeg] Merging formats into \"言xTHEANSWER：名前の由来-2wI6fPlMSdU.mkv\"\n",
      "Deleting original file 言xTHEANSWER：名前の由来-2wI6fPlMSdU.f248.webm (pass -k to keep)\n",
      "Deleting original file 言xTHEANSWER：名前の由来-2wI6fPlMSdU.f140.m4a (pass -k to keep)\n"
     ]
    },
    {
     "name": "stderr",
     "output_type": "stream",
     "text": [
      " 56%|██████████████████████████████████████████████████████████████████████████████████████████████▏                                                                         | 23/41 [10:51<01:51,  6.17s/it]"
     ]
    },
    {
     "name": "stdout",
     "output_type": "stream",
     "text": [
      "[youtube] EAIqN3_ouPc: Downloading webpage\n"
     ]
    },
    {
     "name": "stderr",
     "output_type": "stream",
     "text": [
      "WARNING: Requested formats are incompatible for merge and will be merged into mkv.\n"
     ]
    },
    {
     "name": "stdout",
     "output_type": "stream",
     "text": [
      "[download] Destination: Jinmenusagi  - 好きな銘柄-EAIqN3_ouPc.f248.webm\n",
      "[download] 100% of 17.79MiB in 00:0024MiB/s ETA 00:00known ETA\n",
      "[download] Destination: Jinmenusagi  - 好きな銘柄-EAIqN3_ouPc.f140.m4a\n",
      "[download] 100% of 2.59MiB in 00:0093MiB/s ETA 00:00known ETA\n",
      "[ffmpeg] Merging formats into \"Jinmenusagi  - 好きな銘柄-EAIqN3_ouPc.mkv\"\n",
      "Deleting original file Jinmenusagi  - 好きな銘柄-EAIqN3_ouPc.f248.webm (pass -k to keep)\n",
      "Deleting original file Jinmenusagi  - 好きな銘柄-EAIqN3_ouPc.f140.m4a (pass -k to keep)\n"
     ]
    },
    {
     "name": "stderr",
     "output_type": "stream",
     "text": [
      " 59%|██████████████████████████████████████████████████████████████████████████████████████████████████▎                                                                     | 24/41 [10:58<01:45,  6.21s/it]"
     ]
    },
    {
     "name": "stdout",
     "output_type": "stream",
     "text": [
      "[youtube] D-rQKvMiJ50: Downloading webpage\n"
     ]
    },
    {
     "name": "stderr",
     "output_type": "stream",
     "text": [
      "WARNING: Requested formats are incompatible for merge and will be merged into mkv.\n"
     ]
    },
    {
     "name": "stdout",
     "output_type": "stream",
     "text": [
      "[download] Destination: SILENT KILLA JOINT  - 初期微動～影響を受けたラッパー-D-rQKvMiJ50.f248.webm\n",
      "[download] 100% of 8.78MiB in 04:2851KiB/s ETA 00:00\n",
      "[download] Destination: SILENT KILLA JOINT  - 初期微動～影響を受けたラッパー-D-rQKvMiJ50.f140.m4a\n",
      "[download] 100% of 1.42MiB in 00:1717KiB/s ETA 00:003\n",
      "[ffmpeg] Merging formats into \"SILENT KILLA JOINT  - 初期微動～影響を受けたラッパー-D-rQKvMiJ50.mkv\"\n",
      "Deleting original file SILENT KILLA JOINT  - 初期微動～影響を受けたラッパー-D-rQKvMiJ50.f248.webm (pass -k to keep)\n",
      "Deleting original file SILENT KILLA JOINT  - 初期微動～影響を受けたラッパー-D-rQKvMiJ50.f140.m4a (pass -k to keep)\n"
     ]
    },
    {
     "name": "stderr",
     "output_type": "stream",
     "text": [
      " 61%|██████████████████████████████████████████████████████████████████████████████████████████████████████▍                                                                 | 25/41 [15:49<24:29, 91.86s/it]"
     ]
    },
    {
     "name": "stdout",
     "output_type": "stream",
     "text": [
      "[youtube] dI8fgS18TJ4: Downloading webpage\n"
     ]
    },
    {
     "name": "stderr",
     "output_type": "stream",
     "text": [
      "WARNING: Requested formats are incompatible for merge and will be merged into mkv.\n"
     ]
    },
    {
     "name": "stdout",
     "output_type": "stream",
     "text": [
      "[download] Destination: 玉露 (ICE BAHN)  - 最低のバッドトリップ-dI8fgS18TJ4.f248.webm\n",
      "[download] 100% of 8.68MiB in 00:0098MiB/s ETA 00:001\n",
      "[download] Destination: 玉露 (ICE BAHN)  - 最低のバッドトリップ-dI8fgS18TJ4.f140.m4a\n",
      "[download] 100% of 1.75MiB in 00:0043MiB/s ETA 00:002\n",
      "[ffmpeg] Merging formats into \"玉露 (ICE BAHN)  - 最低のバッドトリップ-dI8fgS18TJ4.mkv\"\n",
      "Deleting original file 玉露 (ICE BAHN)  - 最低のバッドトリップ-dI8fgS18TJ4.f248.webm (pass -k to keep)\n",
      "Deleting original file 玉露 (ICE BAHN)  - 最低のバッドトリップ-dI8fgS18TJ4.f140.m4a (pass -k to keep)\n"
     ]
    },
    {
     "name": "stderr",
     "output_type": "stream",
     "text": [
      " 63%|██████████████████████████████████████████████████████████████████████████████████████████████████████████▌                                                             | 26/41 [15:55<16:30, 66.04s/it]"
     ]
    },
    {
     "name": "stdout",
     "output_type": "stream",
     "text": [
      "[youtube] UwvgT0Z9ihI: Downloading webpage\n"
     ]
    },
    {
     "name": "stderr",
     "output_type": "stream",
     "text": [
      "WARNING: Requested formats are incompatible for merge and will be merged into mkv.\n"
     ]
    },
    {
     "name": "stdout",
     "output_type": "stream",
     "text": [
      "[download] Destination: Knzz  - 一番大切にしている思い出-UwvgT0Z9ihI.f248.webm\n",
      "[download] 100% of 9.53MiB in 03:4879KiB/s ETA 00:00\n",
      "[download] Destination: Knzz  - 一番大切にしている思い出-UwvgT0Z9ihI.f258.m4a\n",
      "[download] 100% of 3.07MiB in 00:4044KiB/s ETA 00:000\n",
      "[ffmpeg] Merging formats into \"Knzz  - 一番大切にしている思い出-UwvgT0Z9ihI.mkv\"\n",
      "Deleting original file Knzz  - 一番大切にしている思い出-UwvgT0Z9ihI.f248.webm (pass -k to keep)\n",
      "Deleting original file Knzz  - 一番大切にしている思い出-UwvgT0Z9ihI.f258.m4a (pass -k to keep)\n"
     ]
    },
    {
     "name": "stderr",
     "output_type": "stream",
     "text": [
      " 66%|█████████████████████████████████████████████████████████████████████████████████████████████████████████████▉                                                         | 27/41 [20:30<30:00, 128.63s/it]"
     ]
    },
    {
     "name": "stdout",
     "output_type": "stream",
     "text": [
      "[youtube] t_ie_Nb5M_I: Downloading webpage\n"
     ]
    },
    {
     "name": "stderr",
     "output_type": "stream",
     "text": [
      "WARNING: Requested formats are incompatible for merge and will be merged into mkv.\n"
     ]
    },
    {
     "name": "stdout",
     "output_type": "stream",
     "text": [
      "[download] Destination: 阿修羅MIC  - ”まんみ”の話-t_ie_Nb5M_I.f248.webm\n",
      "[download] 100% of 20.31MiB in 06:5510KiB/s ETA 00:00\n",
      "[download] Destination: 阿修羅MIC  - ”まんみ”の話-t_ie_Nb5M_I.f140.m4a\n",
      "[download] 100% of 1.78MiB in 00:3095KiB/s ETA 00:00\n",
      "[ffmpeg] Merging formats into \"阿修羅MIC  - ”まんみ”の話-t_ie_Nb5M_I.mkv\"\n",
      "Deleting original file 阿修羅MIC  - ”まんみ”の話-t_ie_Nb5M_I.f248.webm (pass -k to keep)\n",
      "Deleting original file 阿修羅MIC  - ”まんみ”の話-t_ie_Nb5M_I.f140.m4a (pass -k to keep)\n"
     ]
    },
    {
     "name": "stderr",
     "output_type": "stream",
     "text": [
      " 68%|██████████████████████████████████████████████████████████████████████████████████████████████████████████████████                                                     | 28/41 [28:04<49:03, 226.39s/it]"
     ]
    },
    {
     "name": "stdout",
     "output_type": "stream",
     "text": [
      "[youtube] cVpQ3AXtWUM: Downloading webpage\n"
     ]
    },
    {
     "name": "stderr",
     "output_type": "stream",
     "text": [
      "WARNING: Requested formats are incompatible for merge and will be merged into mkv.\n"
     ]
    },
    {
     "name": "stdout",
     "output_type": "stream",
     "text": [
      "[download] Destination: RAIZEN：池袋BED大乱闘事件-cVpQ3AXtWUM.f248.webm\n",
      "[download] 100% of 12.59MiB in 00:0067MiB/s ETA 00:004nown ETA\n",
      "[download] Destination: RAIZEN：池袋BED大乱闘事件-cVpQ3AXtWUM.f140.m4a\n",
      "[download] 100% of 1.47MiB in 00:0033MiB/s ETA 00:00known ETA\n",
      "[ffmpeg] Merging formats into \"RAIZEN：池袋BED大乱闘事件-cVpQ3AXtWUM.mkv\"\n",
      "Deleting original file RAIZEN：池袋BED大乱闘事件-cVpQ3AXtWUM.f248.webm (pass -k to keep)\n",
      "Deleting original file RAIZEN：池袋BED大乱闘事件-cVpQ3AXtWUM.f140.m4a (pass -k to keep)\n"
     ]
    },
    {
     "name": "stderr",
     "output_type": "stream",
     "text": [
      " 71%|██████████████████████████████████████████████████████████████████████████████████████████████████████████████████████                                                 | 29/41 [28:10<32:02, 160.25s/it]"
     ]
    },
    {
     "name": "stdout",
     "output_type": "stream",
     "text": [
      "[youtube] eJL25bR0wDw: Downloading webpage\n"
     ]
    },
    {
     "name": "stderr",
     "output_type": "stream",
     "text": [
      "WARNING: Requested formats are incompatible for merge and will be merged into mkv.\n"
     ]
    },
    {
     "name": "stdout",
     "output_type": "stream",
     "text": [
      "[download] Destination: Franz K Endo  - 大学で学んで役立っていること 〜給付金の使い道-eJL25bR0wDw.f248.webm\n",
      "[download] 100% of 18.42MiB in 00:0081MiB/s ETA 00:00known ETA\n",
      "[download] Destination: Franz K Endo  - 大学で学んで役立っていること 〜給付金の使い道-eJL25bR0wDw.f140.m4a\n",
      "[download] 100% of 3.65MiB in 00:0097MiB/s ETA 00:003\n",
      "[ffmpeg] Merging formats into \"Franz K Endo  - 大学で学んで役立っていること 〜給付金の使い道-eJL25bR0wDw.mkv\"\n",
      "Deleting original file Franz K Endo  - 大学で学んで役立っていること 〜給付金の使い道-eJL25bR0wDw.f248.webm (pass -k to keep)\n",
      "Deleting original file Franz K Endo  - 大学で学んで役立っていること 〜給付金の使い道-eJL25bR0wDw.f140.m4a (pass -k to keep)\n"
     ]
    },
    {
     "name": "stderr",
     "output_type": "stream",
     "text": [
      " 73%|██████████████████████████████████████████████████████████████████████████████████████████████████████████████████████████▏                                            | 30/41 [28:16<20:53, 113.95s/it]"
     ]
    },
    {
     "name": "stdout",
     "output_type": "stream",
     "text": [
      "[youtube] cNiP0N_D-Fo: Downloading webpage\n"
     ]
    },
    {
     "name": "stderr",
     "output_type": "stream",
     "text": [
      "WARNING: Requested formats are incompatible for merge and will be merged into mkv.\n"
     ]
    },
    {
     "name": "stdout",
     "output_type": "stream",
     "text": [
      "[download] Destination: Forest55  - 逮捕について-cNiP0N_D-Fo.f248.webm\n",
      "[download] 100% of 33.98MiB in 00:0021MiB/s ETA 00:00known ETA\n",
      "[download] Destination: Forest55  - 逮捕について-cNiP0N_D-Fo.f140.m4a\n",
      "[download] 100% of 2.12MiB in 00:0047MiB/s ETA 00:002\n",
      "[ffmpeg] Merging formats into \"Forest55  - 逮捕について-cNiP0N_D-Fo.mkv\"\n",
      "Deleting original file Forest55  - 逮捕について-cNiP0N_D-Fo.f248.webm (pass -k to keep)\n",
      "Deleting original file Forest55  - 逮捕について-cNiP0N_D-Fo.f140.m4a (pass -k to keep)\n"
     ]
    },
    {
     "name": "stderr",
     "output_type": "stream",
     "text": [
      " 76%|███████████████████████████████████████████████████████████████████████████████████████████████████████████████████████████████                                         | 31/41 [28:25<13:44, 82.44s/it]"
     ]
    },
    {
     "name": "stdout",
     "output_type": "stream",
     "text": [
      "[youtube] 4Rl7lbveCpw: Downloading webpage\n"
     ]
    },
    {
     "name": "stderr",
     "output_type": "stream",
     "text": [
      "WARNING: Requested formats are incompatible for merge and will be merged into mkv.\n"
     ]
    },
    {
     "name": "stdout",
     "output_type": "stream",
     "text": [
      "[download] Destination: Franz K Endo  - 恐怖体験集-4Rl7lbveCpw.f248.webm\n",
      "[download] 100% of 20.53MiB in 00:0185MiB/s ETA 00:00known ETA\n",
      "[download] Destination: Franz K Endo  - 恐怖体験集-4Rl7lbveCpw.f140.m4a\n",
      "[download] 100% of 3.59MiB in 00:0017MiB/s ETA 00:005\n",
      "[ffmpeg] Merging formats into \"Franz K Endo  - 恐怖体験集-4Rl7lbveCpw.mkv\"\n",
      "Deleting original file Franz K Endo  - 恐怖体験集-4Rl7lbveCpw.f248.webm (pass -k to keep)\n",
      "Deleting original file Franz K Endo  - 恐怖体験集-4Rl7lbveCpw.f140.m4a (pass -k to keep)\n"
     ]
    },
    {
     "name": "stderr",
     "output_type": "stream",
     "text": [
      " 78%|███████████████████████████████████████████████████████████████████████████████████████████████████████████████████████████████████                                     | 32/41 [28:32<08:58, 59.83s/it]"
     ]
    },
    {
     "name": "stdout",
     "output_type": "stream",
     "text": [
      "[youtube] VcEJq4NFTYY: Downloading webpage\n"
     ]
    },
    {
     "name": "stderr",
     "output_type": "stream",
     "text": [
      "WARNING: Requested formats are incompatible for merge and will be merged into mkv.\n"
     ]
    },
    {
     "name": "stdout",
     "output_type": "stream",
     "text": [
      "[download] Destination: FORK (ICE BAHN) ：自己紹介〜名前の由来-VcEJq4NFTYY.f248.webm\n",
      "[download] 100% of 4.52MiB in 00:0048MiB/s ETA 00:005\n",
      "[download] Destination: FORK (ICE BAHN) ：自己紹介〜名前の由来-VcEJq4NFTYY.f140.m4a\n",
      "[download] 100% of 1.09MiB in 00:0026MiB/s ETA 00:00known ETA\n",
      "[ffmpeg] Merging formats into \"FORK (ICE BAHN) ：自己紹介〜名前の由来-VcEJq4NFTYY.mkv\"\n",
      "Deleting original file FORK (ICE BAHN) ：自己紹介〜名前の由来-VcEJq4NFTYY.f248.webm (pass -k to keep)\n",
      "Deleting original file FORK (ICE BAHN) ：自己紹介〜名前の由来-VcEJq4NFTYY.f140.m4a (pass -k to keep)\n"
     ]
    },
    {
     "name": "stderr",
     "output_type": "stream",
     "text": [
      " 80%|███████████████████████████████████████████████████████████████████████████████████████████████████████████████████████████████████████▏                                | 33/41 [28:38<05:48, 43.53s/it]"
     ]
    },
    {
     "name": "stdout",
     "output_type": "stream",
     "text": [
      "[youtube] yUOxvypfE5c: Downloading webpage\n"
     ]
    },
    {
     "name": "stderr",
     "output_type": "stream",
     "text": [
      "WARNING: Requested formats are incompatible for merge and will be merged into mkv.\n"
     ]
    },
    {
     "name": "stdout",
     "output_type": "stream",
     "text": [
      "[download] Destination: あべみかこ  - 幼少期について-yUOxvypfE5c.f248.webm\n",
      "[download] 100% of 4.92MiB in 00:0020MiB/s ETA 00:005\n",
      "[download] Destination: あべみかこ  - 幼少期について-yUOxvypfE5c.f140.m4a\n",
      "[download] 100% of 1.29MiB in 00:0047MiB/s ETA 00:00known ETA\n",
      "[ffmpeg] Merging formats into \"あべみかこ  - 幼少期について-yUOxvypfE5c.mkv\"\n",
      "Deleting original file あべみかこ  - 幼少期について-yUOxvypfE5c.f248.webm (pass -k to keep)\n",
      "Deleting original file あべみかこ  - 幼少期について-yUOxvypfE5c.f140.m4a (pass -k to keep)\n"
     ]
    },
    {
     "name": "stderr",
     "output_type": "stream",
     "text": [
      " 83%|███████████████████████████████████████████████████████████████████████████████████████████████████████████████████████████████████████████▎                            | 34/41 [28:43<03:43, 31.97s/it]"
     ]
    },
    {
     "name": "stdout",
     "output_type": "stream",
     "text": [
      "[youtube] gEno7YCucmw: Downloading webpage\n"
     ]
    },
    {
     "name": "stderr",
     "output_type": "stream",
     "text": [
      "WARNING: Requested formats are incompatible for merge and will be merged into mkv.\n"
     ]
    },
    {
     "name": "stdout",
     "output_type": "stream",
     "text": [
      "[download] Destination: 正高佑志（Green Zone Japan）  - 大麻の'良い所'と'悪い所'-gEno7YCucmw.f248.webm\n",
      "[download] 100% of 4.05MiB in 00:0093MiB/s ETA 00:004\n",
      "[download] Destination: 正高佑志（Green Zone Japan）  - 大麻の'良い所'と'悪い所'-gEno7YCucmw.f140.m4a\n",
      "[download] 100% of 1.81MiB in 00:0001MiB/s ETA 00:002\n",
      "[ffmpeg] Merging formats into \"正高佑志（Green Zone Japan）  - 大麻の'良い所'と'悪い所'-gEno7YCucmw.mkv\"\n",
      "Deleting original file 正高佑志（Green Zone Japan）  - 大麻の'良い所'と'悪い所'-gEno7YCucmw.f248.webm (pass -k to keep)\n",
      "Deleting original file 正高佑志（Green Zone Japan）  - 大麻の'良い所'と'悪い所'-gEno7YCucmw.f140.m4a (pass -k to keep)\n"
     ]
    },
    {
     "name": "stderr",
     "output_type": "stream",
     "text": [
      " 85%|███████████████████████████████████████████████████████████████████████████████████████████████████████████████████████████████████████████████▍                        | 35/41 [28:47<02:22, 23.72s/it]"
     ]
    },
    {
     "name": "stdout",
     "output_type": "stream",
     "text": [
      "[youtube] ABs66gAakyA: Downloading webpage\n",
      "[download] Destination: ハマ･オカモト（OKAMOTO`S） - オカモトレイジについて ～和光学園を振り返って-ABs66gAakyA.f137.mp4\n",
      "[download] 100% of 45.65MiB in 17:0369KiB/s ETA 00:00:38\n",
      "[download] Destination: ハマ･オカモト（OKAMOTO`S） - オカモトレイジについて ～和光学園を振り返って-ABs66gAakyA.f140.m4a\n",
      "[download] 100% of 4.50MiB in 01:4075KiB/s ETA 00:00\n",
      "[ffmpeg] Merging formats into \"ハマ･オカモト（OKAMOTO`S） - オカモトレイジについて ～和光学園を振り返って-ABs66gAakyA.mp4\"\n",
      "Deleting original file ハマ･オカモト（OKAMOTO`S） - オカモトレイジについて ～和光学園を振り返って-ABs66gAakyA.f137.mp4 (pass -k to keep)\n",
      "Deleting original file ハマ･オカモト（OKAMOTO`S） - オカモトレイジについて ～和光学園を振り返って-ABs66gAakyA.f140.m4a (pass -k to keep)\n"
     ]
    },
    {
     "name": "stderr",
     "output_type": "stream",
     "text": [
      " 88%|██████████████████████████████████████████████████████████████████████████████████████████████████████████████████████████████████████████████████▋                    | 36/41 [47:35<29:34, 354.90s/it]"
     ]
    },
    {
     "name": "stdout",
     "output_type": "stream",
     "text": [
      "[youtube] RlcNU3o-Xes: Downloading webpage\n",
      "[download] Destination: Tohji：フロウとリリック どっちを先に考えるか-RlcNU3o-Xes.f137.mp4\n",
      "[download] 100% of 33.58MiB in 00:0140MiB/s ETA 00:00known ETA\n",
      "[download] Destination: Tohji：フロウとリリック どっちを先に考えるか-RlcNU3o-Xes.f140.m4a\n",
      "[download] 100% of 2.14MiB in 00:0000MiB/s ETA 00:002\n",
      "[ffmpeg] Merging formats into \"Tohji：フロウとリリック どっちを先に考えるか-RlcNU3o-Xes.mp4\"\n",
      "Deleting original file Tohji：フロウとリリック どっちを先に考えるか-RlcNU3o-Xes.f137.mp4 (pass -k to keep)\n",
      "Deleting original file Tohji：フロウとリリック どっちを先に考えるか-RlcNU3o-Xes.f140.m4a (pass -k to keep)\n"
     ]
    },
    {
     "name": "stderr",
     "output_type": "stream",
     "text": [
      " 90%|██████████████████████████████████████████████████████████████████████████████████████████████████████████████████████████████████████████████████████▋                | 37/41 [47:40<16:39, 249.82s/it]"
     ]
    },
    {
     "name": "stdout",
     "output_type": "stream",
     "text": [
      "[youtube] _iKAsnvxZKc: Downloading webpage\n"
     ]
    },
    {
     "name": "stderr",
     "output_type": "stream",
     "text": [
      "WARNING: Requested formats are incompatible for merge and will be merged into mkv.\n"
     ]
    },
    {
     "name": "stdout",
     "output_type": "stream",
     "text": [
      "[download] Destination: OKBOY＆Dogwoods  - '波動ダンス' について-_iKAsnvxZKc.f248.webm\n",
      "[download] 100% of 28.21MiB in 00:0382MiB/s ETA 00:00:03wn ETA\n",
      "[download] Destination: OKBOY＆Dogwoods  - '波動ダンス' について-_iKAsnvxZKc.f140.m4a\n",
      "[download] 100% of 2.00MiB in 00:0094MiB/s ETA 00:002\n",
      "[ffmpeg] Merging formats into \"OKBOY＆Dogwoods  - '波動ダンス' について-_iKAsnvxZKc.mkv\"\n",
      "Deleting original file OKBOY＆Dogwoods  - '波動ダンス' について-_iKAsnvxZKc.f248.webm (pass -k to keep)\n",
      "Deleting original file OKBOY＆Dogwoods  - '波動ダンス' について-_iKAsnvxZKc.f140.m4a (pass -k to keep)\n"
     ]
    },
    {
     "name": "stderr",
     "output_type": "stream",
     "text": [
      " 93%|██████████████████████████████████████████████████████████████████████████████████████████████████████████████████████████████████████████████████████████▊            | 38/41 [47:51<08:54, 178.28s/it]"
     ]
    },
    {
     "name": "stdout",
     "output_type": "stream",
     "text": [
      "[youtube] JyzO5lMGKuo: Downloading webpage\n"
     ]
    },
    {
     "name": "stderr",
     "output_type": "stream",
     "text": [
      "WARNING: Requested formats are incompatible for merge and will be merged into mkv.\n"
     ]
    },
    {
     "name": "stdout",
     "output_type": "stream",
     "text": [
      "[download] Destination: ralph  - 最低のバッドトリップ-JyzO5lMGKuo.f248.webm\n",
      "[download] 100% of 7.29MiB in 00:0029MiB/s ETA 00:000\n",
      "[download] Destination: ralph  - 最低のバッドトリップ-JyzO5lMGKuo.f140.m4a\n",
      "[download] 100% of 1.75MiB in 00:0035MiB/s ETA 00:002\n",
      "[ffmpeg] Merging formats into \"ralph  - 最低のバッドトリップ-JyzO5lMGKuo.mkv\"\n",
      "Deleting original file ralph  - 最低のバッドトリップ-JyzO5lMGKuo.f248.webm (pass -k to keep)\n",
      "Deleting original file ralph  - 最低のバッドトリップ-JyzO5lMGKuo.f140.m4a (pass -k to keep)\n"
     ]
    },
    {
     "name": "stderr",
     "output_type": "stream",
     "text": [
      " 95%|██████████████████████████████████████████████████████████████████████████████████████████████████████████████████████████████████████████████████████████████▊        | 39/41 [47:56<04:12, 126.34s/it]"
     ]
    },
    {
     "name": "stdout",
     "output_type": "stream",
     "text": [
      "[youtube] 4p1sP480FPk: Downloading webpage\n"
     ]
    },
    {
     "name": "stderr",
     "output_type": "stream",
     "text": [
      "WARNING: Requested formats are incompatible for merge and will be merged into mkv.\n"
     ]
    },
    {
     "name": "stdout",
     "output_type": "stream",
     "text": [
      "[download] Destination: CHEHON  - 実演をお願いできますか？-4p1sP480FPk.f248.webm\n",
      "[download] 100% of 7.64MiB in 00:0005MiB/s ETA 00:009\n",
      "[download] Destination: CHEHON  - 実演をお願いできますか？-4p1sP480FPk.f140.m4a\n",
      "[download] 100% of 1.21MiB in 00:0083MiB/s ETA 00:001\n",
      "[ffmpeg] Merging formats into \"CHEHON  - 実演をお願いできますか？-4p1sP480FPk.mkv\"\n",
      "Deleting original file CHEHON  - 実演をお願いできますか？-4p1sP480FPk.f248.webm (pass -k to keep)\n",
      "Deleting original file CHEHON  - 実演をお願いできますか？-4p1sP480FPk.f140.m4a (pass -k to keep)\n"
     ]
    },
    {
     "name": "stderr",
     "output_type": "stream",
     "text": [
      " 98%|███████████████████████████████████████████████████████████████████████████████████████████████████████████████████████████████████████████████████████████████████▉    | 40/41 [48:01<01:30, 90.04s/it]"
     ]
    },
    {
     "name": "stdout",
     "output_type": "stream",
     "text": [
      "[youtube] lsz-bABV7dU: Downloading webpage\n"
     ]
    },
    {
     "name": "stderr",
     "output_type": "stream",
     "text": [
      "WARNING: Requested formats are incompatible for merge and will be merged into mkv.\n"
     ]
    },
    {
     "name": "stdout",
     "output_type": "stream",
     "text": [
      "[download] Destination: BASE：朝ご飯昼ご飯晩ご飯どれが好き？-lsz-bABV7dU.f248.webm\n",
      "[download] 100% of 15.49MiB in 03:1950KiB/s ETA 00:001\n",
      "[download] Destination: BASE：朝ご飯昼ご飯晩ご飯どれが好き？-lsz-bABV7dU.f140.m4a\n",
      "[download] 100% of 1.96MiB in 00:2558KiB/s ETA 00:009\n",
      "[ffmpeg] Merging formats into \"BASE：朝ご飯昼ご飯晩ご飯どれが好き？-lsz-bABV7dU.mkv\"\n",
      "Deleting original file BASE：朝ご飯昼ご飯晩ご飯どれが好き？-lsz-bABV7dU.f248.webm (pass -k to keep)\n",
      "Deleting original file BASE：朝ご飯昼ご飯晩ご飯どれが好き？-lsz-bABV7dU.f140.m4a (pass -k to keep)\n"
     ]
    },
    {
     "name": "stderr",
     "output_type": "stream",
     "text": [
      "100%|████████████████████████████████████████████████████████████████████████████████████████████████████████████████████████████████████████████████████████████████████████| 41/41 [51:52<00:00, 75.91s/it]\n",
      "wandb: ERROR Dropped streaming file chunk (see wandb/debug-internal.log)\n",
      "ERROR:root:dropped chunk 404 Client Error: Not Found for url: https://api.wandb.ai/files/hypknot/neet%20tokyo/31nj8rtb/file_stream\n",
      "NoneType: None\n",
      "wandb: ERROR Dropped streaming file chunk (see wandb/debug-internal.log)\n",
      "ERROR:root:dropped chunk 404 Client Error: Not Found for url: https://api.wandb.ai/files/hypknot/neet%20tokyo/31nj8rtb/file_stream\n",
      "NoneType: None\n",
      "wandb: ERROR Dropped streaming file chunk (see wandb/debug-internal.log)\n",
      "ERROR:root:dropped chunk 404 Client Error: Not Found for url: https://api.wandb.ai/files/hypknot/neet%20tokyo/31nj8rtb/file_stream\n",
      "NoneType: None\n",
      "wandb: ERROR Dropped streaming file chunk (see wandb/debug-internal.log)\n",
      "ERROR:root:dropped chunk 404 Client Error: Not Found for url: https://api.wandb.ai/files/hypknot/neet%20tokyo/31nj8rtb/file_stream\n",
      "NoneType: None\n",
      "wandb: ERROR Dropped streaming file chunk (see wandb/debug-internal.log)\n",
      "ERROR:root:dropped chunk 404 Client Error: Not Found for url: https://api.wandb.ai/files/hypknot/neet%20tokyo/31nj8rtb/file_stream\n",
      "NoneType: None\n",
      "wandb: ERROR Dropped streaming file chunk (see wandb/debug-internal.log)\n",
      "ERROR:root:dropped chunk 404 Client Error: Not Found for url: https://api.wandb.ai/files/hypknot/neet%20tokyo/31nj8rtb/file_stream\n",
      "NoneType: None\n",
      "wandb: ERROR Dropped streaming file chunk (see wandb/debug-internal.log)\n",
      "ERROR:root:dropped chunk 404 Client Error: Not Found for url: https://api.wandb.ai/files/hypknot/neet%20tokyo/31nj8rtb/file_stream\n",
      "NoneType: None\n",
      "wandb: ERROR Dropped streaming file chunk (see wandb/debug-internal.log)\n",
      "ERROR:root:dropped chunk 404 Client Error: Not Found for url: https://api.wandb.ai/files/hypknot/neet%20tokyo/31nj8rtb/file_stream\n",
      "NoneType: None\n",
      "wandb: ERROR Dropped streaming file chunk (see wandb/debug-internal.log)\n",
      "ERROR:root:dropped chunk 404 Client Error: Not Found for url: https://api.wandb.ai/files/hypknot/neet%20tokyo/31nj8rtb/file_stream\n",
      "NoneType: None\n",
      "wandb: ERROR Dropped streaming file chunk (see wandb/debug-internal.log)\n",
      "ERROR:root:dropped chunk 404 Client Error: Not Found for url: https://api.wandb.ai/files/hypknot/neet%20tokyo/31nj8rtb/file_stream\n",
      "NoneType: None\n",
      "wandb: ERROR Dropped streaming file chunk (see wandb/debug-internal.log)\n",
      "ERROR:root:dropped chunk 404 Client Error: Not Found for url: https://api.wandb.ai/files/hypknot/neet%20tokyo/31nj8rtb/file_stream\n",
      "NoneType: None\n",
      "wandb: ERROR Dropped streaming file chunk (see wandb/debug-internal.log)\n",
      "ERROR:root:dropped chunk 404 Client Error: Not Found for url: https://api.wandb.ai/files/hypknot/neet%20tokyo/31nj8rtb/file_stream\n",
      "NoneType: None\n",
      "wandb: ERROR Dropped streaming file chunk (see wandb/debug-internal.log)\n",
      "ERROR:root:dropped chunk 404 Client Error: Not Found for url: https://api.wandb.ai/files/hypknot/neet%20tokyo/31nj8rtb/file_stream\n",
      "NoneType: None\n",
      "wandb: ERROR Dropped streaming file chunk (see wandb/debug-internal.log)\n",
      "ERROR:root:dropped chunk 404 Client Error: Not Found for url: https://api.wandb.ai/files/hypknot/neet%20tokyo/31nj8rtb/file_stream\n",
      "NoneType: None\n",
      "wandb: ERROR Dropped streaming file chunk (see wandb/debug-internal.log)\n",
      "ERROR:root:dropped chunk 404 Client Error: Not Found for url: https://api.wandb.ai/files/hypknot/neet%20tokyo/31nj8rtb/file_stream\n",
      "NoneType: None\n",
      "wandb: ERROR Dropped streaming file chunk (see wandb/debug-internal.log)\n",
      "ERROR:root:dropped chunk 404 Client Error: Not Found for url: https://api.wandb.ai/files/hypknot/neet%20tokyo/31nj8rtb/file_stream\n",
      "NoneType: None\n",
      "wandb: ERROR Dropped streaming file chunk (see wandb/debug-internal.log)\n",
      "ERROR:root:dropped chunk 404 Client Error: Not Found for url: https://api.wandb.ai/files/hypknot/neet%20tokyo/31nj8rtb/file_stream\n",
      "NoneType: None\n",
      "wandb: ERROR Dropped streaming file chunk (see wandb/debug-internal.log)\n",
      "ERROR:root:dropped chunk 404 Client Error: Not Found for url: https://api.wandb.ai/files/hypknot/neet%20tokyo/31nj8rtb/file_stream\n",
      "NoneType: None\n",
      "wandb: ERROR Dropped streaming file chunk (see wandb/debug-internal.log)\n",
      "ERROR:root:dropped chunk 404 Client Error: Not Found for url: https://api.wandb.ai/files/hypknot/neet%20tokyo/31nj8rtb/file_stream\n",
      "NoneType: None\n",
      "wandb: ERROR Dropped streaming file chunk (see wandb/debug-internal.log)\n",
      "ERROR:root:dropped chunk 404 Client Error: Not Found for url: https://api.wandb.ai/files/hypknot/neet%20tokyo/31nj8rtb/file_stream\n",
      "NoneType: None\n",
      "wandb: ERROR Dropped streaming file chunk (see wandb/debug-internal.log)\n",
      "ERROR:root:dropped chunk 404 Client Error: Not Found for url: https://api.wandb.ai/files/hypknot/neet%20tokyo/31nj8rtb/file_stream\n",
      "NoneType: None\n",
      "wandb: ERROR Dropped streaming file chunk (see wandb/debug-internal.log)\n",
      "ERROR:root:dropped chunk 404 Client Error: Not Found for url: https://api.wandb.ai/files/hypknot/neet%20tokyo/31nj8rtb/file_stream\n",
      "NoneType: None\n",
      "wandb: ERROR Dropped streaming file chunk (see wandb/debug-internal.log)\n",
      "ERROR:root:dropped chunk 404 Client Error: Not Found for url: https://api.wandb.ai/files/hypknot/neet%20tokyo/31nj8rtb/file_stream\n",
      "NoneType: None\n",
      "wandb: ERROR Dropped streaming file chunk (see wandb/debug-internal.log)\n",
      "ERROR:root:dropped chunk 404 Client Error: Not Found for url: https://api.wandb.ai/files/hypknot/neet%20tokyo/31nj8rtb/file_stream\n",
      "NoneType: None\n",
      "wandb: ERROR Dropped streaming file chunk (see wandb/debug-internal.log)\n",
      "ERROR:root:dropped chunk 404 Client Error: Not Found for url: https://api.wandb.ai/files/hypknot/neet%20tokyo/31nj8rtb/file_stream\n",
      "NoneType: None\n",
      "wandb: ERROR Dropped streaming file chunk (see wandb/debug-internal.log)\n",
      "ERROR:root:dropped chunk 404 Client Error: Not Found for url: https://api.wandb.ai/files/hypknot/neet%20tokyo/31nj8rtb/file_stream\n",
      "NoneType: None\n",
      "wandb: ERROR Dropped streaming file chunk (see wandb/debug-internal.log)\n",
      "ERROR:root:dropped chunk 404 Client Error: Not Found for url: https://api.wandb.ai/files/hypknot/neet%20tokyo/31nj8rtb/file_stream\n",
      "NoneType: None\n",
      "wandb: ERROR Dropped streaming file chunk (see wandb/debug-internal.log)\n",
      "ERROR:root:dropped chunk 404 Client Error: Not Found for url: https://api.wandb.ai/files/hypknot/neet%20tokyo/31nj8rtb/file_stream\n",
      "NoneType: None\n",
      "wandb: ERROR Dropped streaming file chunk (see wandb/debug-internal.log)\n",
      "ERROR:root:dropped chunk 404 Client Error: Not Found for url: https://api.wandb.ai/files/hypknot/neet%20tokyo/31nj8rtb/file_stream\n",
      "NoneType: None\n",
      "wandb: ERROR Dropped streaming file chunk (see wandb/debug-internal.log)\n",
      "ERROR:root:dropped chunk 404 Client Error: Not Found for url: https://api.wandb.ai/files/hypknot/neet%20tokyo/31nj8rtb/file_stream\n",
      "NoneType: None\n",
      "wandb: ERROR Dropped streaming file chunk (see wandb/debug-internal.log)\n",
      "ERROR:root:dropped chunk 404 Client Error: Not Found for url: https://api.wandb.ai/files/hypknot/neet%20tokyo/31nj8rtb/file_stream\n",
      "NoneType: None\n",
      "wandb: ERROR Dropped streaming file chunk (see wandb/debug-internal.log)\n",
      "ERROR:root:dropped chunk 404 Client Error: Not Found for url: https://api.wandb.ai/files/hypknot/neet%20tokyo/31nj8rtb/file_stream\n",
      "NoneType: None\n",
      "wandb: ERROR Dropped streaming file chunk (see wandb/debug-internal.log)\n",
      "ERROR:root:dropped chunk 404 Client Error: Not Found for url: https://api.wandb.ai/files/hypknot/neet%20tokyo/31nj8rtb/file_stream\n",
      "NoneType: None\n",
      "wandb: ERROR Dropped streaming file chunk (see wandb/debug-internal.log)\n",
      "ERROR:root:dropped chunk 404 Client Error: Not Found for url: https://api.wandb.ai/files/hypknot/neet%20tokyo/31nj8rtb/file_stream\n",
      "NoneType: None\n",
      "wandb: ERROR Dropped streaming file chunk (see wandb/debug-internal.log)\n",
      "ERROR:root:dropped chunk 404 Client Error: Not Found for url: https://api.wandb.ai/files/hypknot/neet%20tokyo/31nj8rtb/file_stream\n",
      "NoneType: None\n",
      "wandb: ERROR Dropped streaming file chunk (see wandb/debug-internal.log)\n",
      "ERROR:root:dropped chunk 404 Client Error: Not Found for url: https://api.wandb.ai/files/hypknot/neet%20tokyo/31nj8rtb/file_stream\n",
      "NoneType: None\n",
      "wandb: ERROR Dropped streaming file chunk (see wandb/debug-internal.log)\n",
      "ERROR:root:dropped chunk 404 Client Error: Not Found for url: https://api.wandb.ai/files/hypknot/neet%20tokyo/31nj8rtb/file_stream\n",
      "NoneType: None\n",
      "wandb: ERROR Dropped streaming file chunk (see wandb/debug-internal.log)\n",
      "ERROR:root:dropped chunk 404 Client Error: Not Found for url: https://api.wandb.ai/files/hypknot/neet%20tokyo/31nj8rtb/file_stream\n",
      "NoneType: None\n",
      "wandb: ERROR Dropped streaming file chunk (see wandb/debug-internal.log)\n",
      "ERROR:root:dropped chunk 404 Client Error: Not Found for url: https://api.wandb.ai/files/hypknot/neet%20tokyo/31nj8rtb/file_stream\n",
      "NoneType: None\n",
      "wandb: ERROR Dropped streaming file chunk (see wandb/debug-internal.log)\n",
      "ERROR:root:dropped chunk 404 Client Error: Not Found for url: https://api.wandb.ai/files/hypknot/neet%20tokyo/31nj8rtb/file_stream\n",
      "NoneType: None\n",
      "wandb: ERROR Dropped streaming file chunk (see wandb/debug-internal.log)\n",
      "ERROR:root:dropped chunk 404 Client Error: Not Found for url: https://api.wandb.ai/files/hypknot/neet%20tokyo/31nj8rtb/file_stream\n",
      "NoneType: None\n",
      "wandb: ERROR Dropped streaming file chunk (see wandb/debug-internal.log)\n",
      "ERROR:root:dropped chunk 404 Client Error: Not Found for url: https://api.wandb.ai/files/hypknot/neet%20tokyo/31nj8rtb/file_stream\n",
      "NoneType: None\n",
      "wandb: ERROR Dropped streaming file chunk (see wandb/debug-internal.log)\n",
      "ERROR:root:dropped chunk 404 Client Error: Not Found for url: https://api.wandb.ai/files/hypknot/neet%20tokyo/31nj8rtb/file_stream\n",
      "NoneType: None\n",
      "wandb: ERROR Dropped streaming file chunk (see wandb/debug-internal.log)\n",
      "ERROR:root:dropped chunk 404 Client Error: Not Found for url: https://api.wandb.ai/files/hypknot/neet%20tokyo/31nj8rtb/file_stream\n",
      "NoneType: None\n",
      "wandb: ERROR Dropped streaming file chunk (see wandb/debug-internal.log)\n",
      "ERROR:root:dropped chunk 404 Client Error: Not Found for url: https://api.wandb.ai/files/hypknot/neet%20tokyo/31nj8rtb/file_stream\n",
      "NoneType: None\n",
      "wandb: ERROR Dropped streaming file chunk (see wandb/debug-internal.log)\n",
      "ERROR:root:dropped chunk 404 Client Error: Not Found for url: https://api.wandb.ai/files/hypknot/neet%20tokyo/31nj8rtb/file_stream\n",
      "NoneType: None\n",
      "wandb: ERROR Dropped streaming file chunk (see wandb/debug-internal.log)\n",
      "ERROR:root:dropped chunk 404 Client Error: Not Found for url: https://api.wandb.ai/files/hypknot/neet%20tokyo/31nj8rtb/file_stream\n",
      "NoneType: None\n",
      "wandb: ERROR Dropped streaming file chunk (see wandb/debug-internal.log)\n",
      "ERROR:root:dropped chunk 404 Client Error: Not Found for url: https://api.wandb.ai/files/hypknot/neet%20tokyo/31nj8rtb/file_stream\n",
      "NoneType: None\n",
      "wandb: ERROR Dropped streaming file chunk (see wandb/debug-internal.log)\n",
      "ERROR:root:dropped chunk 404 Client Error: Not Found for url: https://api.wandb.ai/files/hypknot/neet%20tokyo/31nj8rtb/file_stream\n",
      "NoneType: None\n",
      "wandb: ERROR Dropped streaming file chunk (see wandb/debug-internal.log)\n",
      "ERROR:root:dropped chunk 404 Client Error: Not Found for url: https://api.wandb.ai/files/hypknot/neet%20tokyo/31nj8rtb/file_stream\n",
      "NoneType: None\n",
      "wandb: ERROR Dropped streaming file chunk (see wandb/debug-internal.log)\n",
      "ERROR:root:dropped chunk 404 Client Error: Not Found for url: https://api.wandb.ai/files/hypknot/neet%20tokyo/31nj8rtb/file_stream\n",
      "NoneType: None\n",
      "wandb: ERROR Dropped streaming file chunk (see wandb/debug-internal.log)\n",
      "ERROR:root:dropped chunk 404 Client Error: Not Found for url: https://api.wandb.ai/files/hypknot/neet%20tokyo/31nj8rtb/file_stream\n",
      "NoneType: None\n",
      "wandb: ERROR Dropped streaming file chunk (see wandb/debug-internal.log)\n",
      "ERROR:root:dropped chunk 404 Client Error: Not Found for url: https://api.wandb.ai/files/hypknot/neet%20tokyo/31nj8rtb/file_stream\n",
      "NoneType: None\n",
      "wandb: ERROR Dropped streaming file chunk (see wandb/debug-internal.log)\n",
      "ERROR:root:dropped chunk 404 Client Error: Not Found for url: https://api.wandb.ai/files/hypknot/neet%20tokyo/31nj8rtb/file_stream\n",
      "NoneType: None\n",
      "wandb: ERROR Dropped streaming file chunk (see wandb/debug-internal.log)\n",
      "ERROR:root:dropped chunk 404 Client Error: Not Found for url: https://api.wandb.ai/files/hypknot/neet%20tokyo/31nj8rtb/file_stream\n",
      "NoneType: None\n",
      "wandb: ERROR Dropped streaming file chunk (see wandb/debug-internal.log)\n",
      "ERROR:root:dropped chunk 404 Client Error: Not Found for url: https://api.wandb.ai/files/hypknot/neet%20tokyo/31nj8rtb/file_stream\n",
      "NoneType: None\n",
      "wandb: ERROR Dropped streaming file chunk (see wandb/debug-internal.log)\n",
      "ERROR:root:dropped chunk 404 Client Error: Not Found for url: https://api.wandb.ai/files/hypknot/neet%20tokyo/31nj8rtb/file_stream\n",
      "NoneType: None\n",
      "wandb: ERROR Dropped streaming file chunk (see wandb/debug-internal.log)\n",
      "ERROR:root:dropped chunk 404 Client Error: Not Found for url: https://api.wandb.ai/files/hypknot/neet%20tokyo/31nj8rtb/file_stream\n",
      "NoneType: None\n",
      "wandb: ERROR Dropped streaming file chunk (see wandb/debug-internal.log)\n",
      "ERROR:root:dropped chunk 404 Client Error: Not Found for url: https://api.wandb.ai/files/hypknot/neet%20tokyo/31nj8rtb/file_stream\n",
      "NoneType: None\n",
      "wandb: ERROR Dropped streaming file chunk (see wandb/debug-internal.log)\n",
      "ERROR:root:dropped chunk 404 Client Error: Not Found for url: https://api.wandb.ai/files/hypknot/neet%20tokyo/31nj8rtb/file_stream\n",
      "NoneType: None\n",
      "wandb: ERROR Dropped streaming file chunk (see wandb/debug-internal.log)\n",
      "ERROR:root:dropped chunk 404 Client Error: Not Found for url: https://api.wandb.ai/files/hypknot/neet%20tokyo/31nj8rtb/file_stream\n",
      "NoneType: None\n",
      "wandb: ERROR Dropped streaming file chunk (see wandb/debug-internal.log)\n",
      "ERROR:root:dropped chunk 404 Client Error: Not Found for url: https://api.wandb.ai/files/hypknot/neet%20tokyo/31nj8rtb/file_stream\n",
      "NoneType: None\n",
      "wandb: ERROR Dropped streaming file chunk (see wandb/debug-internal.log)\n",
      "ERROR:root:dropped chunk 404 Client Error: Not Found for url: https://api.wandb.ai/files/hypknot/neet%20tokyo/31nj8rtb/file_stream\n",
      "NoneType: None\n",
      "wandb: ERROR Dropped streaming file chunk (see wandb/debug-internal.log)\n",
      "ERROR:root:dropped chunk 404 Client Error: Not Found for url: https://api.wandb.ai/files/hypknot/neet%20tokyo/31nj8rtb/file_stream\n",
      "NoneType: None\n",
      "wandb: ERROR Dropped streaming file chunk (see wandb/debug-internal.log)\n",
      "ERROR:root:dropped chunk 404 Client Error: Not Found for url: https://api.wandb.ai/files/hypknot/neet%20tokyo/31nj8rtb/file_stream\n",
      "NoneType: None\n"
     ]
    }
   ],
   "source": [
    "wandb.init(project=\"neet tokyo\")\n",
    "\n",
    "OUTPUT_PATH = './dataset'\n",
    "N_IMGS = 20\n",
    "\n",
    "\n",
    "for video_id in tqdm(videos[14+89+106:250]):\n",
    "  # 動画ダウンロード\n",
    "  ydl_opts = {}\n",
    "  with youtube_dl.YoutubeDL(ydl_opts) as ydl:\n",
    "      ydl.download([f'https://www.youtube.com/watch?v={video_id}'])\n",
    "\n",
    "  video_paths1 = glob.glob('*.mp4')\n",
    "  video_paths2 = glob.glob('*.mkv')\n",
    "  video_paths = video_paths1 + video_paths2\n",
    "\n",
    "  if len(video_paths) == 1:\n",
    "    video_path = video_paths[0]\n",
    "  else :\n",
    "    for v in video_paths:\n",
    "      os.remove(v)\n",
    "    continue\n",
    "\n",
    "  root, ext = os.path.splitext(video_path)\n",
    "  basename = os.path.basename(root)\n",
    "  output_dir = os.path.join(OUTPUT_PATH, basename)\n",
    "\n",
    "  os.makedirs(output_dir, exist_ok=True)\n",
    "\n",
    "  # 動画のカット\n",
    "  cap = cv2.VideoCapture(video_path)\n",
    "\n",
    "  cap_width = int(cap.get(cv2.CAP_PROP_FRAME_WIDTH))\n",
    "  cap_height = int(cap.get(cv2.CAP_PROP_FRAME_HEIGHT))\n",
    "  frame_count = int(cap.get(cv2.CAP_PROP_FRAME_COUNT)) \n",
    "  fps = cap.get(cv2.CAP_PROP_FPS)\n",
    "\n",
    "  video_len = frame_count / fps\n",
    "\n",
    "  # 抽出したい開始or終了時間\n",
    "  begin = 5\n",
    "  end = video_len - 22\n",
    "\n",
    "  # 切り出すフレーム\n",
    "  cutout_interval = (end - begin) * fps / N_IMGS\n",
    "  cutout_frames = [int(begin*fps + i*cutout_interval) for i in range(N_IMGS)]\n",
    "\n",
    "  for frame_num in cutout_frames:\n",
    "    cap.set(cv2.CAP_PROP_POS_FRAMES, frame_num)\n",
    "    ret, frame = cap.read()\n",
    "    if ret:\n",
    "        cv2.imwrite(os.path.join(output_dir, f'sample_{frame_num}.jpg'), frame)\n",
    "\n",
    "  os.remove(video_path)"
   ]
  },
  {
   "cell_type": "code",
   "execution_count": null,
   "metadata": {
    "id": "p8eVffVVNq2b"
   },
   "outputs": [],
   "source": []
  }
 ],
 "metadata": {
  "colab": {
   "name": "youtube_api.ipynb",
   "provenance": []
  },
  "kernelspec": {
   "display_name": "Python 3 (ipykernel)",
   "language": "python",
   "name": "python3"
  },
  "language_info": {
   "codemirror_mode": {
    "name": "ipython",
    "version": 3
   },
   "file_extension": ".py",
   "mimetype": "text/x-python",
   "name": "python",
   "nbconvert_exporter": "python",
   "pygments_lexer": "ipython3",
   "version": "3.7.11"
  }
 },
 "nbformat": 4,
 "nbformat_minor": 4
}
